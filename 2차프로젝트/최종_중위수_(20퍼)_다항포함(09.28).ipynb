{
 "cells": [
  {
   "cell_type": "markdown",
   "id": "3d4bf22e",
   "metadata": {},
   "source": [
    "### 중위수 (20퍼)"
   ]
  },
  {
   "cell_type": "code",
   "execution_count": 1,
   "id": "8035e0db",
   "metadata": {},
   "outputs": [],
   "source": [
    "import seaborn as sns\n",
    "import matplotlib.pyplot as plt\n",
    "%matplotlib inline\n",
    "\n",
    "import pandas as pd\n",
    "import numpy as np\n",
    "\n",
    "import warnings\n",
    "warnings.filterwarnings('ignore')"
   ]
  },
  {
   "cell_type": "code",
   "execution_count": 2,
   "id": "56453cee",
   "metadata": {},
   "outputs": [],
   "source": [
    "original_df = pd.read_csv('../data/AB_NYC_2019.csv')\n",
    "df = original_df.copy() # 원본 데이터 저장"
   ]
  },
  {
   "cell_type": "code",
   "execution_count": 3,
   "id": "ffc13f92",
   "metadata": {
    "scrolled": true
   },
   "outputs": [
    {
     "data": {
      "text/html": [
       "<div>\n",
       "<style scoped>\n",
       "    .dataframe tbody tr th:only-of-type {\n",
       "        vertical-align: middle;\n",
       "    }\n",
       "\n",
       "    .dataframe tbody tr th {\n",
       "        vertical-align: top;\n",
       "    }\n",
       "\n",
       "    .dataframe thead th {\n",
       "        text-align: right;\n",
       "    }\n",
       "</style>\n",
       "<table border=\"1\" class=\"dataframe\">\n",
       "  <thead>\n",
       "    <tr style=\"text-align: right;\">\n",
       "      <th></th>\n",
       "      <th>id</th>\n",
       "      <th>name</th>\n",
       "      <th>host_id</th>\n",
       "      <th>host_name</th>\n",
       "      <th>neighbourhood_group</th>\n",
       "      <th>neighbourhood</th>\n",
       "      <th>latitude</th>\n",
       "      <th>longitude</th>\n",
       "      <th>room_type</th>\n",
       "      <th>price</th>\n",
       "      <th>minimum_nights</th>\n",
       "      <th>number_of_reviews</th>\n",
       "      <th>last_review</th>\n",
       "      <th>reviews_per_month</th>\n",
       "      <th>calculated_host_listings_count</th>\n",
       "      <th>availability_365</th>\n",
       "    </tr>\n",
       "  </thead>\n",
       "  <tbody>\n",
       "    <tr>\n",
       "      <th>0</th>\n",
       "      <td>2539</td>\n",
       "      <td>Clean &amp; quiet apt home by the park</td>\n",
       "      <td>2787</td>\n",
       "      <td>John</td>\n",
       "      <td>Brooklyn</td>\n",
       "      <td>Kensington</td>\n",
       "      <td>40.64749</td>\n",
       "      <td>-73.97237</td>\n",
       "      <td>Private room</td>\n",
       "      <td>149</td>\n",
       "      <td>1</td>\n",
       "      <td>9</td>\n",
       "      <td>2018-10-19</td>\n",
       "      <td>0.21</td>\n",
       "      <td>6</td>\n",
       "      <td>365</td>\n",
       "    </tr>\n",
       "    <tr>\n",
       "      <th>1</th>\n",
       "      <td>2595</td>\n",
       "      <td>Skylit Midtown Castle</td>\n",
       "      <td>2845</td>\n",
       "      <td>Jennifer</td>\n",
       "      <td>Manhattan</td>\n",
       "      <td>Midtown</td>\n",
       "      <td>40.75362</td>\n",
       "      <td>-73.98377</td>\n",
       "      <td>Entire home/apt</td>\n",
       "      <td>225</td>\n",
       "      <td>1</td>\n",
       "      <td>45</td>\n",
       "      <td>2019-05-21</td>\n",
       "      <td>0.38</td>\n",
       "      <td>2</td>\n",
       "      <td>355</td>\n",
       "    </tr>\n",
       "    <tr>\n",
       "      <th>2</th>\n",
       "      <td>3647</td>\n",
       "      <td>THE VILLAGE OF HARLEM....NEW YORK !</td>\n",
       "      <td>4632</td>\n",
       "      <td>Elisabeth</td>\n",
       "      <td>Manhattan</td>\n",
       "      <td>Harlem</td>\n",
       "      <td>40.80902</td>\n",
       "      <td>-73.94190</td>\n",
       "      <td>Private room</td>\n",
       "      <td>150</td>\n",
       "      <td>3</td>\n",
       "      <td>0</td>\n",
       "      <td>NaN</td>\n",
       "      <td>NaN</td>\n",
       "      <td>1</td>\n",
       "      <td>365</td>\n",
       "    </tr>\n",
       "    <tr>\n",
       "      <th>3</th>\n",
       "      <td>3831</td>\n",
       "      <td>Cozy Entire Floor of Brownstone</td>\n",
       "      <td>4869</td>\n",
       "      <td>LisaRoxanne</td>\n",
       "      <td>Brooklyn</td>\n",
       "      <td>Clinton Hill</td>\n",
       "      <td>40.68514</td>\n",
       "      <td>-73.95976</td>\n",
       "      <td>Entire home/apt</td>\n",
       "      <td>89</td>\n",
       "      <td>1</td>\n",
       "      <td>270</td>\n",
       "      <td>2019-07-05</td>\n",
       "      <td>4.64</td>\n",
       "      <td>1</td>\n",
       "      <td>194</td>\n",
       "    </tr>\n",
       "    <tr>\n",
       "      <th>4</th>\n",
       "      <td>5022</td>\n",
       "      <td>Entire Apt: Spacious Studio/Loft by central park</td>\n",
       "      <td>7192</td>\n",
       "      <td>Laura</td>\n",
       "      <td>Manhattan</td>\n",
       "      <td>East Harlem</td>\n",
       "      <td>40.79851</td>\n",
       "      <td>-73.94399</td>\n",
       "      <td>Entire home/apt</td>\n",
       "      <td>80</td>\n",
       "      <td>10</td>\n",
       "      <td>9</td>\n",
       "      <td>2018-11-19</td>\n",
       "      <td>0.10</td>\n",
       "      <td>1</td>\n",
       "      <td>0</td>\n",
       "    </tr>\n",
       "  </tbody>\n",
       "</table>\n",
       "</div>"
      ],
      "text/plain": [
       "     id                                              name  host_id  \\\n",
       "0  2539                Clean & quiet apt home by the park     2787   \n",
       "1  2595                             Skylit Midtown Castle     2845   \n",
       "2  3647               THE VILLAGE OF HARLEM....NEW YORK !     4632   \n",
       "3  3831                   Cozy Entire Floor of Brownstone     4869   \n",
       "4  5022  Entire Apt: Spacious Studio/Loft by central park     7192   \n",
       "\n",
       "     host_name neighbourhood_group neighbourhood  latitude  longitude  \\\n",
       "0         John            Brooklyn    Kensington  40.64749  -73.97237   \n",
       "1     Jennifer           Manhattan       Midtown  40.75362  -73.98377   \n",
       "2    Elisabeth           Manhattan        Harlem  40.80902  -73.94190   \n",
       "3  LisaRoxanne            Brooklyn  Clinton Hill  40.68514  -73.95976   \n",
       "4        Laura           Manhattan   East Harlem  40.79851  -73.94399   \n",
       "\n",
       "         room_type  price  minimum_nights  number_of_reviews last_review  \\\n",
       "0     Private room    149               1                  9  2018-10-19   \n",
       "1  Entire home/apt    225               1                 45  2019-05-21   \n",
       "2     Private room    150               3                  0         NaN   \n",
       "3  Entire home/apt     89               1                270  2019-07-05   \n",
       "4  Entire home/apt     80              10                  9  2018-11-19   \n",
       "\n",
       "   reviews_per_month  calculated_host_listings_count  availability_365  \n",
       "0               0.21                               6               365  \n",
       "1               0.38                               2               355  \n",
       "2                NaN                               1               365  \n",
       "3               4.64                               1               194  \n",
       "4               0.10                               1                 0  "
      ]
     },
     "execution_count": 3,
     "metadata": {},
     "output_type": "execute_result"
    }
   ],
   "source": [
    "df.head(5)"
   ]
  },
  {
   "cell_type": "code",
   "execution_count": 4,
   "id": "6105a5b7",
   "metadata": {},
   "outputs": [
    {
     "data": {
      "text/plain": [
       "(48895, 16)"
      ]
     },
     "execution_count": 4,
     "metadata": {},
     "output_type": "execute_result"
    }
   ],
   "source": [
    "df.shape"
   ]
  },
  {
   "cell_type": "code",
   "execution_count": 5,
   "id": "d4ae176d",
   "metadata": {},
   "outputs": [
    {
     "name": "stdout",
     "output_type": "stream",
     "text": [
      "<class 'pandas.core.frame.DataFrame'>\n",
      "RangeIndex: 48895 entries, 0 to 48894\n",
      "Data columns (total 16 columns):\n",
      " #   Column                          Non-Null Count  Dtype  \n",
      "---  ------                          --------------  -----  \n",
      " 0   id                              48895 non-null  int64  \n",
      " 1   name                            48879 non-null  object \n",
      " 2   host_id                         48895 non-null  int64  \n",
      " 3   host_name                       48874 non-null  object \n",
      " 4   neighbourhood_group             48895 non-null  object \n",
      " 5   neighbourhood                   48895 non-null  object \n",
      " 6   latitude                        48895 non-null  float64\n",
      " 7   longitude                       48895 non-null  float64\n",
      " 8   room_type                       48895 non-null  object \n",
      " 9   price                           48895 non-null  int64  \n",
      " 10  minimum_nights                  48895 non-null  int64  \n",
      " 11  number_of_reviews               48895 non-null  int64  \n",
      " 12  last_review                     38843 non-null  object \n",
      " 13  reviews_per_month               38843 non-null  float64\n",
      " 14  calculated_host_listings_count  48895 non-null  int64  \n",
      " 15  availability_365                48895 non-null  int64  \n",
      "dtypes: float64(3), int64(7), object(6)\n",
      "memory usage: 6.0+ MB\n"
     ]
    }
   ],
   "source": [
    "df.info()"
   ]
  },
  {
   "cell_type": "code",
   "execution_count": 6,
   "id": "0b6e3ee2",
   "metadata": {},
   "outputs": [
    {
     "data": {
      "text/plain": [
       "id                                    0\n",
       "name                                 16\n",
       "host_id                               0\n",
       "host_name                            21\n",
       "neighbourhood_group                   0\n",
       "neighbourhood                         0\n",
       "latitude                              0\n",
       "longitude                             0\n",
       "room_type                             0\n",
       "price                                 0\n",
       "minimum_nights                        0\n",
       "number_of_reviews                     0\n",
       "last_review                       10052\n",
       "reviews_per_month                 10052\n",
       "calculated_host_listings_count        0\n",
       "availability_365                      0\n",
       "dtype: int64"
      ]
     },
     "execution_count": 6,
     "metadata": {},
     "output_type": "execute_result"
    }
   ],
   "source": [
    "df.isnull().sum()"
   ]
  },
  {
   "cell_type": "code",
   "execution_count": 7,
   "id": "f986ff4a",
   "metadata": {
    "scrolled": true
   },
   "outputs": [
    {
     "data": {
      "text/html": [
       "<div>\n",
       "<style scoped>\n",
       "    .dataframe tbody tr th:only-of-type {\n",
       "        vertical-align: middle;\n",
       "    }\n",
       "\n",
       "    .dataframe tbody tr th {\n",
       "        vertical-align: top;\n",
       "    }\n",
       "\n",
       "    .dataframe thead th {\n",
       "        text-align: right;\n",
       "    }\n",
       "</style>\n",
       "<table border=\"1\" class=\"dataframe\">\n",
       "  <thead>\n",
       "    <tr style=\"text-align: right;\">\n",
       "      <th></th>\n",
       "      <th>id</th>\n",
       "      <th>host_id</th>\n",
       "      <th>latitude</th>\n",
       "      <th>longitude</th>\n",
       "      <th>price</th>\n",
       "      <th>minimum_nights</th>\n",
       "      <th>number_of_reviews</th>\n",
       "      <th>reviews_per_month</th>\n",
       "      <th>calculated_host_listings_count</th>\n",
       "      <th>availability_365</th>\n",
       "    </tr>\n",
       "  </thead>\n",
       "  <tbody>\n",
       "    <tr>\n",
       "      <th>count</th>\n",
       "      <td>4.889500e+04</td>\n",
       "      <td>4.889500e+04</td>\n",
       "      <td>48895.000000</td>\n",
       "      <td>48895.000000</td>\n",
       "      <td>48895.000000</td>\n",
       "      <td>48895.000000</td>\n",
       "      <td>48895.000000</td>\n",
       "      <td>38843.000000</td>\n",
       "      <td>48895.000000</td>\n",
       "      <td>48895.000000</td>\n",
       "    </tr>\n",
       "    <tr>\n",
       "      <th>mean</th>\n",
       "      <td>1.901714e+07</td>\n",
       "      <td>6.762001e+07</td>\n",
       "      <td>40.728949</td>\n",
       "      <td>-73.952170</td>\n",
       "      <td>152.720687</td>\n",
       "      <td>7.029962</td>\n",
       "      <td>23.274466</td>\n",
       "      <td>1.373221</td>\n",
       "      <td>7.143982</td>\n",
       "      <td>112.781327</td>\n",
       "    </tr>\n",
       "    <tr>\n",
       "      <th>std</th>\n",
       "      <td>1.098311e+07</td>\n",
       "      <td>7.861097e+07</td>\n",
       "      <td>0.054530</td>\n",
       "      <td>0.046157</td>\n",
       "      <td>240.154170</td>\n",
       "      <td>20.510550</td>\n",
       "      <td>44.550582</td>\n",
       "      <td>1.680442</td>\n",
       "      <td>32.952519</td>\n",
       "      <td>131.622289</td>\n",
       "    </tr>\n",
       "    <tr>\n",
       "      <th>min</th>\n",
       "      <td>2.539000e+03</td>\n",
       "      <td>2.438000e+03</td>\n",
       "      <td>40.499790</td>\n",
       "      <td>-74.244420</td>\n",
       "      <td>0.000000</td>\n",
       "      <td>1.000000</td>\n",
       "      <td>0.000000</td>\n",
       "      <td>0.010000</td>\n",
       "      <td>1.000000</td>\n",
       "      <td>0.000000</td>\n",
       "    </tr>\n",
       "    <tr>\n",
       "      <th>25%</th>\n",
       "      <td>9.471945e+06</td>\n",
       "      <td>7.822033e+06</td>\n",
       "      <td>40.690100</td>\n",
       "      <td>-73.983070</td>\n",
       "      <td>69.000000</td>\n",
       "      <td>1.000000</td>\n",
       "      <td>1.000000</td>\n",
       "      <td>0.190000</td>\n",
       "      <td>1.000000</td>\n",
       "      <td>0.000000</td>\n",
       "    </tr>\n",
       "    <tr>\n",
       "      <th>50%</th>\n",
       "      <td>1.967728e+07</td>\n",
       "      <td>3.079382e+07</td>\n",
       "      <td>40.723070</td>\n",
       "      <td>-73.955680</td>\n",
       "      <td>106.000000</td>\n",
       "      <td>3.000000</td>\n",
       "      <td>5.000000</td>\n",
       "      <td>0.720000</td>\n",
       "      <td>1.000000</td>\n",
       "      <td>45.000000</td>\n",
       "    </tr>\n",
       "    <tr>\n",
       "      <th>75%</th>\n",
       "      <td>2.915218e+07</td>\n",
       "      <td>1.074344e+08</td>\n",
       "      <td>40.763115</td>\n",
       "      <td>-73.936275</td>\n",
       "      <td>175.000000</td>\n",
       "      <td>5.000000</td>\n",
       "      <td>24.000000</td>\n",
       "      <td>2.020000</td>\n",
       "      <td>2.000000</td>\n",
       "      <td>227.000000</td>\n",
       "    </tr>\n",
       "    <tr>\n",
       "      <th>max</th>\n",
       "      <td>3.648724e+07</td>\n",
       "      <td>2.743213e+08</td>\n",
       "      <td>40.913060</td>\n",
       "      <td>-73.712990</td>\n",
       "      <td>10000.000000</td>\n",
       "      <td>1250.000000</td>\n",
       "      <td>629.000000</td>\n",
       "      <td>58.500000</td>\n",
       "      <td>327.000000</td>\n",
       "      <td>365.000000</td>\n",
       "    </tr>\n",
       "  </tbody>\n",
       "</table>\n",
       "</div>"
      ],
      "text/plain": [
       "                 id       host_id      latitude     longitude         price  \\\n",
       "count  4.889500e+04  4.889500e+04  48895.000000  48895.000000  48895.000000   \n",
       "mean   1.901714e+07  6.762001e+07     40.728949    -73.952170    152.720687   \n",
       "std    1.098311e+07  7.861097e+07      0.054530      0.046157    240.154170   \n",
       "min    2.539000e+03  2.438000e+03     40.499790    -74.244420      0.000000   \n",
       "25%    9.471945e+06  7.822033e+06     40.690100    -73.983070     69.000000   \n",
       "50%    1.967728e+07  3.079382e+07     40.723070    -73.955680    106.000000   \n",
       "75%    2.915218e+07  1.074344e+08     40.763115    -73.936275    175.000000   \n",
       "max    3.648724e+07  2.743213e+08     40.913060    -73.712990  10000.000000   \n",
       "\n",
       "       minimum_nights  number_of_reviews  reviews_per_month  \\\n",
       "count    48895.000000       48895.000000       38843.000000   \n",
       "mean         7.029962          23.274466           1.373221   \n",
       "std         20.510550          44.550582           1.680442   \n",
       "min          1.000000           0.000000           0.010000   \n",
       "25%          1.000000           1.000000           0.190000   \n",
       "50%          3.000000           5.000000           0.720000   \n",
       "75%          5.000000          24.000000           2.020000   \n",
       "max       1250.000000         629.000000          58.500000   \n",
       "\n",
       "       calculated_host_listings_count  availability_365  \n",
       "count                    48895.000000      48895.000000  \n",
       "mean                         7.143982        112.781327  \n",
       "std                         32.952519        131.622289  \n",
       "min                          1.000000          0.000000  \n",
       "25%                          1.000000          0.000000  \n",
       "50%                          1.000000         45.000000  \n",
       "75%                          2.000000        227.000000  \n",
       "max                        327.000000        365.000000  "
      ]
     },
     "execution_count": 7,
     "metadata": {},
     "output_type": "execute_result"
    }
   ],
   "source": [
    "df.describe()"
   ]
  },
  {
   "cell_type": "markdown",
   "id": "15f4b3cf",
   "metadata": {},
   "source": [
    "### describe()\n",
    "\n",
    "- price의 min에 **0달러 (11개)** >> 0 달러 레코드만 삭제(실제로 에어비앤비에서 뉴욕 에어비앤비 요금 검색을 했을 때 0달러 숙소는 없음을 확인)\n",
    "- minimun_nights의 **max에 1250** >> **365를 초과하는 레코드 삭제**"
   ]
  },
  {
   "cell_type": "code",
   "execution_count": 8,
   "id": "ef08f6b3",
   "metadata": {
    "scrolled": true
   },
   "outputs": [
    {
     "data": {
      "text/plain": [
       "17533"
      ]
     },
     "execution_count": 8,
     "metadata": {},
     "output_type": "execute_result"
    }
   ],
   "source": [
    "# availability_365 0 레코드 수 확인\n",
    "df[df['availability_365']==0]['availability_365'].count()"
   ]
  },
  {
   "cell_type": "code",
   "execution_count": 9,
   "id": "41a34dc2",
   "metadata": {},
   "outputs": [
    {
     "data": {
      "text/plain": [
       "11"
      ]
     },
     "execution_count": 9,
     "metadata": {},
     "output_type": "execute_result"
    }
   ],
   "source": [
    "# price 0 레코드 수 확인\n",
    "df[df['price']==0]['price'].count()"
   ]
  },
  {
   "cell_type": "code",
   "execution_count": 10,
   "id": "48f6b546",
   "metadata": {},
   "outputs": [
    {
     "data": {
      "text/plain": [
       "<AxesSubplot:title={'center':'Price Histogram'}, xlabel='price', ylabel='Density'>"
      ]
     },
     "execution_count": 10,
     "metadata": {},
     "output_type": "execute_result"
    },
    {
     "data": {
      "image/png": "[encoded data removed]",
      "text/plain": [
       "<Figure size 432x288 with 1 Axes>"
      ]
     },
     "metadata": {
      "needs_background": "light"
     },
     "output_type": "display_data"
    }
   ],
   "source": [
    "# price 분포 확인\n",
    "plt.title('Price Histogram')\n",
    "sns.distplot(df['price']) "
   ]
  },
  {
   "cell_type": "code",
   "execution_count": 11,
   "id": "336ec1b0",
   "metadata": {},
   "outputs": [
    {
     "data": {
      "text/plain": [
       "<AxesSubplot:xlabel='neighbourhood_group', ylabel='minimum_nights'>"
      ]
     },
     "execution_count": 11,
     "metadata": {},
     "output_type": "execute_result"
    },
    {
     "data": {
      "image/png": "[encoded data removed]",
      "text/plain": [
       "<Figure size 432x288 with 1 Axes>"
      ]
     },
     "metadata": {
      "needs_background": "light"
     },
     "output_type": "display_data"
    }
   ],
   "source": [
    "# minimum_nights 박스플롯으로 확인\n",
    "\n",
    "sns.boxplot(data = df, x='neighbourhood_group', y='minimum_nights') # 1200 => 이상치 확인!"
   ]
  },
  {
   "cell_type": "markdown",
   "id": "9c280b2d",
   "metadata": {},
   "source": [
    "## 전처리\n",
    "\n",
    "### 8개의 피처 삭제!\n",
    "\n",
    "- id 삭제 (의미없는 숫자)\n",
    "- name 삭제 (문자)\n",
    "- host_id 삭제 (의미없는 숫자)\n",
    "- host_name 삭제 (문자)\n",
    "- neighbourhood 삭제 (221개 삭제)\n",
    "- latitude 삭제 (강사님 조언)\n",
    "- longitude 삭제 (강사님 조언)\n",
    "- last_review 삭제 (문자)\n"
   ]
  },
  {
   "cell_type": "code",
   "execution_count": 12,
   "id": "1146ee59",
   "metadata": {},
   "outputs": [],
   "source": [
    "df.drop(['id', 'name', 'host_id', 'host_name', 'neighbourhood', 'latitude', 'longitude', 'last_review'], axis=1, inplace=True)"
   ]
  },
  {
   "cell_type": "code",
   "execution_count": 13,
   "id": "600836a1",
   "metadata": {
    "scrolled": true
   },
   "outputs": [
    {
     "data": {
      "text/html": [
       "<div>\n",
       "<style scoped>\n",
       "    .dataframe tbody tr th:only-of-type {\n",
       "        vertical-align: middle;\n",
       "    }\n",
       "\n",
       "    .dataframe tbody tr th {\n",
       "        vertical-align: top;\n",
       "    }\n",
       "\n",
       "    .dataframe thead th {\n",
       "        text-align: right;\n",
       "    }\n",
       "</style>\n",
       "<table border=\"1\" class=\"dataframe\">\n",
       "  <thead>\n",
       "    <tr style=\"text-align: right;\">\n",
       "      <th></th>\n",
       "      <th>neighbourhood_group</th>\n",
       "      <th>room_type</th>\n",
       "      <th>price</th>\n",
       "      <th>minimum_nights</th>\n",
       "      <th>number_of_reviews</th>\n",
       "      <th>reviews_per_month</th>\n",
       "      <th>calculated_host_listings_count</th>\n",
       "      <th>availability_365</th>\n",
       "    </tr>\n",
       "  </thead>\n",
       "  <tbody>\n",
       "    <tr>\n",
       "      <th>0</th>\n",
       "      <td>Brooklyn</td>\n",
       "      <td>Private room</td>\n",
       "      <td>149</td>\n",
       "      <td>1</td>\n",
       "      <td>9</td>\n",
       "      <td>0.21</td>\n",
       "      <td>6</td>\n",
       "      <td>365</td>\n",
       "    </tr>\n",
       "    <tr>\n",
       "      <th>1</th>\n",
       "      <td>Manhattan</td>\n",
       "      <td>Entire home/apt</td>\n",
       "      <td>225</td>\n",
       "      <td>1</td>\n",
       "      <td>45</td>\n",
       "      <td>0.38</td>\n",
       "      <td>2</td>\n",
       "      <td>355</td>\n",
       "    </tr>\n",
       "    <tr>\n",
       "      <th>2</th>\n",
       "      <td>Manhattan</td>\n",
       "      <td>Private room</td>\n",
       "      <td>150</td>\n",
       "      <td>3</td>\n",
       "      <td>0</td>\n",
       "      <td>NaN</td>\n",
       "      <td>1</td>\n",
       "      <td>365</td>\n",
       "    </tr>\n",
       "  </tbody>\n",
       "</table>\n",
       "</div>"
      ],
      "text/plain": [
       "  neighbourhood_group        room_type  price  minimum_nights  \\\n",
       "0            Brooklyn     Private room    149               1   \n",
       "1           Manhattan  Entire home/apt    225               1   \n",
       "2           Manhattan     Private room    150               3   \n",
       "\n",
       "   number_of_reviews  reviews_per_month  calculated_host_listings_count  \\\n",
       "0                  9               0.21                               6   \n",
       "1                 45               0.38                               2   \n",
       "2                  0                NaN                               1   \n",
       "\n",
       "   availability_365  \n",
       "0               365  \n",
       "1               355  \n",
       "2               365  "
      ]
     },
     "execution_count": 13,
     "metadata": {},
     "output_type": "execute_result"
    }
   ],
   "source": [
    "df.head(3)"
   ]
  },
  {
   "cell_type": "markdown",
   "id": "3ceab1c3",
   "metadata": {},
   "source": [
    "### 1. reviews_per_month NaN값 => '0'으로 대체"
   ]
  },
  {
   "cell_type": "code",
   "execution_count": 14,
   "id": "76c17a80",
   "metadata": {},
   "outputs": [],
   "source": [
    "# reviews_per_month NaN값 >> 0으로 대체\n",
    "df['reviews_per_month'] = df['reviews_per_month'].replace(np.nan, 0).astype(int)"
   ]
  },
  {
   "cell_type": "markdown",
   "id": "de85cc52",
   "metadata": {},
   "source": [
    "### 2. availability_365 0값 => '중위수(45)'로 대체 (3가지 케이스)\n",
    "#### 여기서는 중위수로 대체!"
   ]
  },
  {
   "cell_type": "code",
   "execution_count": 15,
   "id": "203c2842",
   "metadata": {},
   "outputs": [],
   "source": [
    "# availability_365 0값 >> 중위수으로 대체\n",
    "df['availability_365'] = df['availability_365'].replace(0,'45') # 45.0\n",
    "df['availability_365'] = df['availability_365'].astype(int)"
   ]
  },
  {
   "cell_type": "code",
   "execution_count": 16,
   "id": "c1d33736",
   "metadata": {},
   "outputs": [
    {
     "data": {
      "text/plain": [
       "45.0"
      ]
     },
     "execution_count": 16,
     "metadata": {},
     "output_type": "execute_result"
    }
   ],
   "source": [
    "df['availability_365'].median() # 중위수 45"
   ]
  },
  {
   "cell_type": "markdown",
   "id": "fcf758d0",
   "metadata": {},
   "source": [
    "### 3. minimum_nights => 365를 초과하는 값 삭제"
   ]
  },
  {
   "cell_type": "code",
   "execution_count": 17,
   "id": "7703e928",
   "metadata": {},
   "outputs": [],
   "source": [
    "# minimum_nights 365를 초과하는 값 삭제\n",
    "df_index = df[df['minimum_nights'] > 365].index\n",
    "df = df.drop(df_index)"
   ]
  },
  {
   "cell_type": "code",
   "execution_count": 18,
   "id": "84dc1c7d",
   "metadata": {
    "scrolled": true
   },
   "outputs": [
    {
     "data": {
      "text/plain": [
       "neighbourhood_group               0\n",
       "room_type                         0\n",
       "price                             0\n",
       "minimum_nights                    0\n",
       "number_of_reviews                 0\n",
       "reviews_per_month                 0\n",
       "calculated_host_listings_count    0\n",
       "availability_365                  0\n",
       "dtype: int64"
      ]
     },
     "execution_count": 18,
     "metadata": {},
     "output_type": "execute_result"
    }
   ],
   "source": [
    "# minimum_nights 365 초과하는 값 삭제 됐는지 확인\n",
    "df[df['minimum_nights'] > 365].count()"
   ]
  },
  {
   "cell_type": "code",
   "execution_count": 19,
   "id": "8c73555b",
   "metadata": {},
   "outputs": [
    {
     "data": {
      "text/plain": [
       "0         1\n",
       "1         1\n",
       "2         3\n",
       "3         1\n",
       "4        10\n",
       "         ..\n",
       "48890     2\n",
       "48891     4\n",
       "48892    10\n",
       "48893     1\n",
       "48894     7\n",
       "Name: minimum_nights, Length: 48881, dtype: int64"
      ]
     },
     "execution_count": 19,
     "metadata": {},
     "output_type": "execute_result"
    }
   ],
   "source": [
    "df['minimum_nights']"
   ]
  },
  {
   "cell_type": "code",
   "execution_count": 20,
   "id": "2ebb3f72",
   "metadata": {},
   "outputs": [
    {
     "data": {
      "text/plain": [
       "<AxesSubplot:xlabel='neighbourhood_group', ylabel='minimum_nights'>"
      ]
     },
     "execution_count": 20,
     "metadata": {},
     "output_type": "execute_result"
    },
    {
     "data": {
      "image/png": "[encoded data removed]",
      "text/plain": [
       "<Figure size 432x288 with 1 Axes>"
      ]
     },
     "metadata": {
      "needs_background": "light"
     },
     "output_type": "display_data"
    }
   ],
   "source": [
    "# minimum_nights 박스플롯으로 확인\n",
    "sns.boxplot(data = df, x='neighbourhood_group', y='minimum_nights') # 365 초과하는 값 전부 삭제 확인!"
   ]
  },
  {
   "cell_type": "code",
   "execution_count": 21,
   "id": "b91ca5f1",
   "metadata": {},
   "outputs": [],
   "source": [
    "# price 0 레코드 삭제\n",
    "df = df[df['price'] != 0] # price가 0이 아닌것만 df에 저장"
   ]
  },
  {
   "cell_type": "code",
   "execution_count": 22,
   "id": "13517e43",
   "metadata": {},
   "outputs": [
    {
     "data": {
      "text/plain": [
       "0"
      ]
     },
     "execution_count": 22,
     "metadata": {},
     "output_type": "execute_result"
    }
   ],
   "source": [
    "# price 0 삭제됐는지 확인\n",
    "df[df['price']==0]['price'].count()"
   ]
  },
  {
   "cell_type": "code",
   "execution_count": 23,
   "id": "9bfc2963",
   "metadata": {},
   "outputs": [],
   "source": [
    "# price 로그 변환\n",
    "original_df_price = df['price'] # 원래 SalePrice original_SalePrice에 저장\n",
    "df['price'] = np.log1p(df['price']) # 로그 변환 값으로 타겟값 '대체'"
   ]
  },
  {
   "cell_type": "code",
   "execution_count": 24,
   "id": "656a3fdd",
   "metadata": {},
   "outputs": [
    {
     "data": {
      "text/plain": [
       "<AxesSubplot:title={'center':'Price Histogram'}, xlabel='price', ylabel='Density'>"
      ]
     },
     "execution_count": 24,
     "metadata": {},
     "output_type": "execute_result"
    },
    {
     "data": {
      "image/png": "[encoded data removed]",
      "text/plain": [
       "<Figure size 432x288 with 1 Axes>"
      ]
     },
     "metadata": {
      "needs_background": "light"
     },
     "output_type": "display_data"
    }
   ],
   "source": [
    "# 로그 변환 확인\n",
    "plt.title('Price Histogram')\n",
    "sns.distplot(df['price'])"
   ]
  },
  {
   "cell_type": "code",
   "execution_count": 25,
   "id": "3930f917",
   "metadata": {},
   "outputs": [
    {
     "data": {
      "text/plain": [
       "(48870, 8)"
      ]
     },
     "execution_count": 25,
     "metadata": {},
     "output_type": "execute_result"
    }
   ],
   "source": [
    "df.shape"
   ]
  },
  {
   "cell_type": "markdown",
   "id": "dee0253e",
   "metadata": {},
   "source": [
    "### 원-핫 인코딩 => 'neighbourhood_group', 'room_type'"
   ]
  },
  {
   "cell_type": "markdown",
   "id": "9c69254d",
   "metadata": {},
   "source": [
    "#### prefix => 접두사 ng(neighbourhood group) / rt(root type)"
   ]
  },
  {
   "cell_type": "code",
   "execution_count": 26,
   "id": "b4e46ae1",
   "metadata": {},
   "outputs": [],
   "source": [
    "df_ohe = pd.get_dummies(df, columns=['neighbourhood_group', 'room_type'], prefix = ['ng', 'rt']) "
   ]
  },
  {
   "cell_type": "code",
   "execution_count": 27,
   "id": "a645f548",
   "metadata": {
    "scrolled": true
   },
   "outputs": [
    {
     "data": {
      "text/html": [
       "<div>\n",
       "<style scoped>\n",
       "    .dataframe tbody tr th:only-of-type {\n",
       "        vertical-align: middle;\n",
       "    }\n",
       "\n",
       "    .dataframe tbody tr th {\n",
       "        vertical-align: top;\n",
       "    }\n",
       "\n",
       "    .dataframe thead th {\n",
       "        text-align: right;\n",
       "    }\n",
       "</style>\n",
       "<table border=\"1\" class=\"dataframe\">\n",
       "  <thead>\n",
       "    <tr style=\"text-align: right;\">\n",
       "      <th></th>\n",
       "      <th>price</th>\n",
       "      <th>minimum_nights</th>\n",
       "      <th>number_of_reviews</th>\n",
       "      <th>reviews_per_month</th>\n",
       "      <th>calculated_host_listings_count</th>\n",
       "      <th>availability_365</th>\n",
       "      <th>ng_Bronx</th>\n",
       "      <th>ng_Brooklyn</th>\n",
       "      <th>ng_Manhattan</th>\n",
       "      <th>ng_Queens</th>\n",
       "      <th>ng_Staten Island</th>\n",
       "      <th>rt_Entire home/apt</th>\n",
       "      <th>rt_Private room</th>\n",
       "      <th>rt_Shared room</th>\n",
       "    </tr>\n",
       "  </thead>\n",
       "  <tbody>\n",
       "    <tr>\n",
       "      <th>0</th>\n",
       "      <td>5.010635</td>\n",
       "      <td>1</td>\n",
       "      <td>9</td>\n",
       "      <td>0</td>\n",
       "      <td>6</td>\n",
       "      <td>365</td>\n",
       "      <td>0</td>\n",
       "      <td>1</td>\n",
       "      <td>0</td>\n",
       "      <td>0</td>\n",
       "      <td>0</td>\n",
       "      <td>0</td>\n",
       "      <td>1</td>\n",
       "      <td>0</td>\n",
       "    </tr>\n",
       "    <tr>\n",
       "      <th>1</th>\n",
       "      <td>5.420535</td>\n",
       "      <td>1</td>\n",
       "      <td>45</td>\n",
       "      <td>0</td>\n",
       "      <td>2</td>\n",
       "      <td>355</td>\n",
       "      <td>0</td>\n",
       "      <td>0</td>\n",
       "      <td>1</td>\n",
       "      <td>0</td>\n",
       "      <td>0</td>\n",
       "      <td>1</td>\n",
       "      <td>0</td>\n",
       "      <td>0</td>\n",
       "    </tr>\n",
       "    <tr>\n",
       "      <th>2</th>\n",
       "      <td>5.017280</td>\n",
       "      <td>3</td>\n",
       "      <td>0</td>\n",
       "      <td>0</td>\n",
       "      <td>1</td>\n",
       "      <td>365</td>\n",
       "      <td>0</td>\n",
       "      <td>0</td>\n",
       "      <td>1</td>\n",
       "      <td>0</td>\n",
       "      <td>0</td>\n",
       "      <td>0</td>\n",
       "      <td>1</td>\n",
       "      <td>0</td>\n",
       "    </tr>\n",
       "    <tr>\n",
       "      <th>3</th>\n",
       "      <td>4.499810</td>\n",
       "      <td>1</td>\n",
       "      <td>270</td>\n",
       "      <td>4</td>\n",
       "      <td>1</td>\n",
       "      <td>194</td>\n",
       "      <td>0</td>\n",
       "      <td>1</td>\n",
       "      <td>0</td>\n",
       "      <td>0</td>\n",
       "      <td>0</td>\n",
       "      <td>1</td>\n",
       "      <td>0</td>\n",
       "      <td>0</td>\n",
       "    </tr>\n",
       "    <tr>\n",
       "      <th>4</th>\n",
       "      <td>4.394449</td>\n",
       "      <td>10</td>\n",
       "      <td>9</td>\n",
       "      <td>0</td>\n",
       "      <td>1</td>\n",
       "      <td>45</td>\n",
       "      <td>0</td>\n",
       "      <td>0</td>\n",
       "      <td>1</td>\n",
       "      <td>0</td>\n",
       "      <td>0</td>\n",
       "      <td>1</td>\n",
       "      <td>0</td>\n",
       "      <td>0</td>\n",
       "    </tr>\n",
       "  </tbody>\n",
       "</table>\n",
       "</div>"
      ],
      "text/plain": [
       "      price  minimum_nights  number_of_reviews  reviews_per_month  \\\n",
       "0  5.010635               1                  9                  0   \n",
       "1  5.420535               1                 45                  0   \n",
       "2  5.017280               3                  0                  0   \n",
       "3  4.499810               1                270                  4   \n",
       "4  4.394449              10                  9                  0   \n",
       "\n",
       "   calculated_host_listings_count  availability_365  ng_Bronx  ng_Brooklyn  \\\n",
       "0                               6               365         0            1   \n",
       "1                               2               355         0            0   \n",
       "2                               1               365         0            0   \n",
       "3                               1               194         0            1   \n",
       "4                               1                45         0            0   \n",
       "\n",
       "   ng_Manhattan  ng_Queens  ng_Staten Island  rt_Entire home/apt  \\\n",
       "0             0          0                 0                   0   \n",
       "1             1          0                 0                   1   \n",
       "2             1          0                 0                   0   \n",
       "3             0          0                 0                   1   \n",
       "4             1          0                 0                   1   \n",
       "\n",
       "   rt_Private room  rt_Shared room  \n",
       "0                1               0  \n",
       "1                0               0  \n",
       "2                1               0  \n",
       "3                0               0  \n",
       "4                0               0  "
      ]
     },
     "execution_count": 27,
     "metadata": {},
     "output_type": "execute_result"
    }
   ],
   "source": [
    "df_ohe.head(5)"
   ]
  },
  {
   "cell_type": "markdown",
   "id": "e4313754",
   "metadata": {},
   "source": [
    "### 학습 전 데이터 분리 => 두 가지 케이스 (8:2)\n",
    "#### 여기서는 8:2를 사용!"
   ]
  },
  {
   "cell_type": "code",
   "execution_count": 28,
   "id": "6864015e",
   "metadata": {},
   "outputs": [],
   "source": [
    "X_features = df_ohe.drop(['price'], axis=1) \n",
    "y_target = df_ohe['price']  "
   ]
  },
  {
   "cell_type": "code",
   "execution_count": 29,
   "id": "a4cb7737",
   "metadata": {},
   "outputs": [],
   "source": [
    "# 학습 / 테스트 데이터 세트 분리\n",
    "# 테스트 데이터 세트 : 20% \n",
    "from sklearn.model_selection import train_test_split\n",
    "\n",
    "X_train, X_test, y_train, y_test=train_test_split(X_features, y_target, test_size=0.2, random_state=11) # test_size=0.2 => 20% (train:80/ test:20)"
   ]
  },
  {
   "cell_type": "markdown",
   "id": "e6e33dac",
   "metadata": {},
   "source": [
    "-----------------------------------------------------"
   ]
  },
  {
   "cell_type": "markdown",
   "id": "ed944285",
   "metadata": {},
   "source": [
    "### 다항(2차, 3차) 회귀 모델의 학습/예측/평가 (추가!)"
   ]
  },
  {
   "cell_type": "markdown",
   "id": "5a802213",
   "metadata": {},
   "source": [
    "#### Pipeline을 이용하여 PolynomialFeatures 변환과 LinearRegression 적용을 순차적으로 결합 (3가지) 수행\n",
    "\n",
    "\n",
    "#### 총 3가지의 케이스를 수행할 것!\n",
    "(1) degree=2 => 2차 다항\n",
    "\n",
    "(2) degree=2, include_bias=False => **2차 다항**인데 편향성 까지 제외\n",
    "\n",
    "(3) degree=3, include_bias=False => **3차 다항**인데 편향성 까지 제외"
   ]
  },
  {
   "cell_type": "code",
   "execution_count": 30,
   "id": "35adaea1",
   "metadata": {},
   "outputs": [],
   "source": [
    "from sklearn.model_selection import train_test_split\n",
    "from sklearn.linear_model import LinearRegression\n",
    "from sklearn.metrics import mean_squared_error , r2_score\n",
    "from sklearn.preprocessing import PolynomialFeatures\n",
    "from sklearn.linear_model import LinearRegression\n",
    "from sklearn.pipeline import Pipeline"
   ]
  },
  {
   "cell_type": "code",
   "execution_count": 31,
   "id": "bbbdfcb0",
   "metadata": {},
   "outputs": [
    {
     "data": {
      "text/plain": [
       "Pipeline(steps=[('poly', PolynomialFeatures()), ('linear', LinearRegression())])"
      ]
     },
     "execution_count": 31,
     "metadata": {},
     "output_type": "execute_result"
    }
   ],
   "source": [
    "# (1) degree=2 2차다항으로 만들기\n",
    "# 파이프라인 작업 구성하기\n",
    "# Pipeline([('작업명',작업1), ('작업명',작업2),....('작업명',작업n)])\n",
    "p_model = Pipeline([ ('poly', PolynomialFeatures(degree=2)),\n",
    "                     ('linear', LinearRegression()) ])\n",
    "\n",
    "# pipeline에 data를 전달해서 학습 진행\n",
    "p_model.fit(X_train, y_train)"
   ]
  },
  {
   "cell_type": "code",
   "execution_count": 32,
   "id": "9d7c14d4",
   "metadata": {},
   "outputs": [
    {
     "name": "stdout",
     "output_type": "stream",
     "text": [
      "Polynomial 회귀 계수\n",
      " [-0.    -0.005 -0.001 -0.024 -0.013  0.001 -0.099 -0.026  0.112 -0.061\n",
      "  0.074  0.213 -0.109 -0.104  0.     0.     0.001  0.    -0.    -0.002\n",
      " -0.    -0.002  0.001 -0.002 -0.003 -0.001 -0.001  0.    -0.    -0.\n",
      " -0.    -0.     0.001 -0.001 -0.    -0.    -0.001  0.    -0.    -0.\n",
      "  0.    -0.    -0.012 -0.005  0.03  -0.003 -0.033  0.     0.005 -0.029\n",
      " -0.    -0.     0.015  0.014  0.014  0.009 -0.066  0.002  0.003 -0.018\n",
      " -0.     0.    -0.     0.     0.     0.     0.001  0.    -0.    -0.099\n",
      "  0.     0.     0.     0.     0.013 -0.021 -0.091 -0.026  0.     0.\n",
      "  0.     0.165  0.002 -0.194  0.112  0.     0.     0.128  0.032 -0.047\n",
      " -0.061  0.     0.043  0.022 -0.127  0.074 -0.136 -0.145  0.355  0.213\n",
      "  0.     0.    -0.109  0.    -0.104]\n"
     ]
    }
   ],
   "source": [
    "# linear스텝의 속성 coef_를 반환\n",
    "# W (회귀 계수)\n",
    "\n",
    "print('Polynomial 회귀 계수\\n', np.round(p_model.named_steps['linear'].coef_, 3))"
   ]
  },
  {
   "cell_type": "markdown",
   "id": "f56171d8",
   "metadata": {},
   "source": [
    "#### (1) degree=2 => 2차 다항"
   ]
  },
  {
   "cell_type": "code",
   "execution_count": 33,
   "id": "7379f504",
   "metadata": {},
   "outputs": [
    {
     "name": "stdout",
     "output_type": "stream",
     "text": [
      "MSE : 0.247 , RMSE : 0.497\n",
      "Variance score : 0.485\n"
     ]
    }
   ],
   "source": [
    "# degree=2 => 2차 다항\n",
    "# 학습된 회귀식을 이용해 예측\n",
    "y_preds = p_model.predict(X_test) \n",
    "\n",
    "# 평가\n",
    "mse = mean_squared_error(y_test, y_preds)\n",
    "rmse = np.sqrt(mse)\n",
    "\n",
    "print('MSE : {0:.3f} , RMSE : {1:.3F}'.format(mse , rmse))\n",
    "print('Variance score : {0:.3f}'.format(r2_score(y_test, y_preds)))"
   ]
  },
  {
   "cell_type": "markdown",
   "id": "625bbb8d",
   "metadata": {},
   "source": [
    "#### (2) degree=2, include_bias=False => 2차 다항인데 편향성 까지 제외"
   ]
  },
  {
   "cell_type": "code",
   "execution_count": 34,
   "id": "2f66f372",
   "metadata": {},
   "outputs": [
    {
     "name": "stdout",
     "output_type": "stream",
     "text": [
      "MSE : 0.247 , RMSE : 0.497\n",
      "Variance score : 0.485\n"
     ]
    }
   ],
   "source": [
    "# (2) degree=2, include_bias 튜닝\n",
    "# 파이프라인 작업 구성하기\n",
    "# Pipeline([('작업명',작업1), ('작업명',작업2),....('작업명',작업n)])\n",
    "p_model = Pipeline([ ('poly', PolynomialFeatures(degree=2, include_bias=False)), # include_bias=False 포함!!\n",
    "                     ('linear', LinearRegression()) ])\n",
    "\n",
    "# pipeline에 data를 전달해서 학습 진행\n",
    "p_model.fit(X_train, y_train)\n",
    "\n",
    "# 예측\n",
    "y_preds = p_model.predict(X_test)\n",
    "mse = mean_squared_error(y_test, y_preds)\n",
    "rmse = np.sqrt(mse)\n",
    "\n",
    "\n",
    "print('MSE : {0:.3f} , RMSE : {1:.3F}'.format(mse , rmse))\n",
    "print('Variance score : {0:.3f}'.format(r2_score(y_test, y_preds)))"
   ]
  },
  {
   "cell_type": "markdown",
   "id": "8cabe62b",
   "metadata": {},
   "source": [
    "#### (3) degree=3, include_bias=False => 3차 다항인데 편향성 까지 제외"
   ]
  },
  {
   "cell_type": "code",
   "execution_count": 35,
   "id": "d77df9f1",
   "metadata": {},
   "outputs": [
    {
     "name": "stdout",
     "output_type": "stream",
     "text": [
      "MSE : 0.248 , RMSE : 0.498\n",
      "Variance score : 0.482\n"
     ]
    }
   ],
   "source": [
    "# (3) degree=3, include_bias=False\n",
    "# 파이프라인 작업 구성하기\n",
    "# Pipeline([('작업명',작업1), ('작업명',작업2),....('작업명',작업n)])\n",
    "p_model = Pipeline([('poly', PolynomialFeatures(degree=3, include_bias=False)),\n",
    "                  ('linear', LinearRegression())])\n",
    "\n",
    "p_model.fit(X_train, y_train)\n",
    "\n",
    "y_preds = p_model.predict(X_test)\n",
    "mse = mean_squared_error(y_test, y_preds)\n",
    "rmse = np.sqrt(mse)\n",
    "\n",
    "print('MSE : {0:.3f} , RMSE : {1:.3F}'.format(mse , rmse))\n",
    "print('Variance score : {0:.3f}'.format(r2_score(y_test, y_preds)))"
   ]
  },
  {
   "cell_type": "markdown",
   "id": "75881d05",
   "metadata": {},
   "source": [
    "## 결과\n",
    "\n",
    "#### (1) degree=2 => 2차 다항\n",
    "- MSE : 0.247 , RMSE : 0.497\n",
    "- Variance score : 0.485\n",
    "\n",
    "#### (2) degree=2, include_bias=False => 2차 다항인데 편향성 까지 제외\n",
    "- MSE : 0.247 , RMSE : 0.497\n",
    "- Variance score : 0.485\n",
    "    \n",
    "#### (3) degree=3, include_bias=False => 3차 다항인데 편향성 까지 제외\n",
    "- MSE : 0.248 , RMSE : 0.498\n",
    "- Variance score : 0.482"
   ]
  },
  {
   "cell_type": "markdown",
   "id": "abd60b2f",
   "metadata": {},
   "source": [
    "--------------------------------------------"
   ]
  },
  {
   "cell_type": "markdown",
   "id": "9185472c",
   "metadata": {},
   "source": [
    "### 선형/릿지/라쏘 회귀 모델의 학습/예측/평가"
   ]
  },
  {
   "cell_type": "code",
   "execution_count": 36,
   "id": "b22a32fa",
   "metadata": {},
   "outputs": [],
   "source": [
    "# 단일 모델의 RMSE 값 반환\n",
    "def get_rmse(model): # 학습된 모델을 받아서 예측\n",
    "    pred = model.predict(X_test)\n",
    "    mse = mean_squared_error(y_test , pred)\n",
    "    rmse = np.sqrt(mse)\n",
    "    print('{0} 로그 변환된 RMSE: {1}'.format(model.__class__.__name__, np.round(rmse, 3))) \n",
    "    return rmse\n",
    "\n",
    "# 여러 모델의 RMSE 값 반환\n",
    "def get_rmses(models) : \n",
    "    rmses = []\n",
    "    for model in models :\n",
    "        rmse = get_rmse(model) # 단일 모델의 RMSE 값 반환 함수 = get_rmse \n",
    "        rmses.append(rmse)\n",
    "    return rmses"
   ]
  },
  {
   "cell_type": "code",
   "execution_count": 37,
   "id": "512e1323",
   "metadata": {},
   "outputs": [],
   "source": [
    "from sklearn.linear_model import LinearRegression, Ridge, Lasso \n",
    "from sklearn.model_selection import train_test_split\n",
    "from sklearn.metrics import mean_squared_error"
   ]
  },
  {
   "cell_type": "code",
   "execution_count": 38,
   "id": "c7d49bfe",
   "metadata": {},
   "outputs": [
    {
     "data": {
      "text/plain": [
       "Lasso()"
      ]
     },
     "execution_count": 38,
     "metadata": {},
     "output_type": "execute_result"
    }
   ],
   "source": [
    "# 일반 선형 회귀 = linear regression\n",
    "lr_reg = LinearRegression() # 1차 선형 회귀\n",
    "lr_reg.fit(X_train, y_train)\n",
    "\n",
    "# 릿찌 회귀 = ridge regression\n",
    "ridge_reg = Ridge()\n",
    "ridge_reg.fit(X_train, y_train)\n",
    "\n",
    "# 라쏘 회귀 = lasso regression\n",
    "lasso_reg = Lasso()\n",
    "lasso_reg.fit(X_train, y_train)"
   ]
  },
  {
   "cell_type": "code",
   "execution_count": 39,
   "id": "ad629ba1",
   "metadata": {},
   "outputs": [
    {
     "name": "stdout",
     "output_type": "stream",
     "text": [
      "LinearRegression 로그 변환된 RMSE: 0.505\n",
      "Ridge 로그 변환된 RMSE: 0.505\n",
      "Lasso 로그 변환된 RMSE: 0.685\n"
     ]
    },
    {
     "data": {
      "text/plain": [
       "[0.5053885802369388, 0.50539072872281, 0.6854288577058207]"
      ]
     },
     "execution_count": 39,
     "metadata": {},
     "output_type": "execute_result"
    }
   ],
   "source": [
    "models = [lr_reg, ridge_reg, lasso_reg]\n",
    "get_rmses(models) # 학습된 모델 전달하고 # rmse값 반환"
   ]
  },
  {
   "cell_type": "markdown",
   "id": "f2ea6cf4",
   "metadata": {},
   "source": [
    "### 첫번째 결과 (선형/릿지/라쏘 모델)\n",
    "\n",
    "#### 라쏘 회귀(0.6861168996208226)가 타 회귀 방식보다 상대적으로 성능이 떨어진다!!\n",
    "\n",
    "\n",
    "#### 하이퍼 파라미터 튜닝이 필요함! (alpha 하이퍼 파라미터에 대해서 최적화 수행)"
   ]
  },
  {
   "cell_type": "markdown",
   "id": "89416664",
   "metadata": {},
   "source": [
    "--------------------------------------------------------"
   ]
  },
  {
   "cell_type": "code",
   "execution_count": 40,
   "id": "f7e3478d",
   "metadata": {},
   "outputs": [],
   "source": [
    "def get_top_bottom_coef(model) :\n",
    "    coef = pd.Series(model.coef_, index=X_features.columns)\n",
    "    coef_high = coef.sort_values(ascending=False).head(10) \n",
    "    coef_low = coef.sort_values(ascending=False).tail(10)\n",
    "    return coef_high, coef_low"
   ]
  },
  {
   "cell_type": "code",
   "execution_count": 41,
   "id": "94642e39",
   "metadata": {},
   "outputs": [],
   "source": [
    "# 모델별 회귀 계수 시각화 함수\n",
    "# list 객체로 모델을 입력 받아서\n",
    "# 모델별로 회귀 계수 상위 '10개', 하위 '10개' 추출해서 # 가로 막대 그래프 형태로 출력\n",
    "def visualize_coefficient(models) :\n",
    "    # 3개 회귀 모델의 시각화를 위해 3개의 컬럼을 가지는 subplot 생성\n",
    "    fig, axs = plt.subplots(figsize=(20,10),nrows=1, ncols=3) \n",
    "    fig.tight_layout()\n",
    "    # 입력인자로 받은 list객체인 models에서 차례로 model을 추출하여 회귀 계수 시각화.\n",
    "    for i_num, model in enumerate(models) :\n",
    "        # 상위 10개, 하위 10개 회귀 계수를 구하고, 이를 판다스 concat으로 결합.\n",
    "        coef_high, coef_low = get_top_bottom_coef(model) \n",
    "        coef_concat = pd.concat( [coef_high , coef_low] )\n",
    "    \n",
    "    # 순차적으로 ax subplot에 barchar로 표현. 한 화면에 표현하기 위해 tick label 위치와 font 크\n",
    "        axs[i_num].set_title(model.__class__.__name__ +' Coeffiecents', size=25) \n",
    "        axs[i_num].tick_params(axis=\"y\",direction=\"in\", pad=-190) # 안쪽, 패딩값\n",
    "\n",
    "        for label in (axs[i_num].get_xticklabels() + axs[i_num].get_yticklabels()) : \n",
    "            label.set_fontsize(13)\n",
    "        sns.barplot(x=coef_concat.values, y=coef_concat.index , ax=axs[i_num])"
   ]
  },
  {
   "cell_type": "code",
   "execution_count": 42,
   "id": "53bae082",
   "metadata": {},
   "outputs": [
    {
     "data": {
      "image/png": "[encoded data removed]",
      "text/plain": [
       "<Figure size 1440x720 with 3 Axes>"
      ]
     },
     "metadata": {
      "needs_background": "light"
     },
     "output_type": "display_data"
    }
   ],
   "source": [
    "models = [lr_reg, ridge_reg, lasso_reg]\n",
    "visualize_coefficient(models)"
   ]
  },
  {
   "cell_type": "markdown",
   "id": "14d246cc",
   "metadata": {},
   "source": [
    "- OLS 기반의 **LinearRegression**과 **Ridge** : 회귀 계수가 유사한 형태로 분포\n",
    "    - **최소자승법(OLS: Ordinary Least Squares)는 잔차제곱합(RSS: Residual Sum of Squares)를 최소화하는 가중치 벡터를 구하는 방법**이다. \n",
    "    - 우리가 사용하는 예측 모형은 다음과 같이 상수항이 결합된 선형모형이다.\n",
    "    \n",
    "    \n",
    "    \n",
    "    \n",
    "- **Lasso** : **전체적으로 회귀 계수 값이 매우 작음**\n",
    "    - calculated_host_listing_count가 값이 가장 크고, 다른 피처의 회기 계수는 너무 작음\n",
    "    - LinearRegression과 Ridge와 다른 회귀 계수 형태"
   ]
  },
  {
   "cell_type": "markdown",
   "id": "ccae5989",
   "metadata": {},
   "source": [
    "### 5폴드 교차검증으로 모델별로 RMSE와 평균 RMSE 출력 (cv=5) "
   ]
  },
  {
   "cell_type": "code",
   "execution_count": 43,
   "id": "2af962b8",
   "metadata": {},
   "outputs": [],
   "source": [
    "from sklearn.model_selection import cross_val_score\n",
    "\n",
    "def get_avg_rmse_cv(models) :\n",
    "    for model in models :\n",
    "        # 데이터 분할하지 않고, 전체 데이터 세트로 교차 검증 진행\n",
    "        rmse_list = np.sqrt(-cross_val_score(model, X_features, y_target, scoring='neg_mean_squared_error', cv=5))\n",
    "        rmse_avg = np.mean(rmse_list)\n",
    "        print('\\n{0} CV RMSE 값 리스트: {1}'.format( model.__class__.__name__, np.round(rmse_list, 3)))\n",
    "        print('{0} CV 평균 RMSE 값: {1}'.format( model.__class__.__name__, np.round(rmse_avg, 3)))"
   ]
  },
  {
   "cell_type": "code",
   "execution_count": 44,
   "id": "e89804d9",
   "metadata": {},
   "outputs": [
    {
     "name": "stdout",
     "output_type": "stream",
     "text": [
      "\n",
      "LinearRegression CV RMSE 값 리스트: [0.508 0.482 0.503 0.503 0.53 ]\n",
      "LinearRegression CV 평균 RMSE 값: 0.505\n",
      "\n",
      "Ridge CV RMSE 값 리스트: [0.508 0.482 0.503 0.503 0.53 ]\n",
      "Ridge CV 평균 RMSE 값: 0.505\n",
      "\n",
      "Lasso CV RMSE 값 리스트: [0.657 0.644 0.676 0.704 0.747]\n",
      "Lasso CV 평균 RMSE 값: 0.686\n"
     ]
    }
   ],
   "source": [
    "# 앞 예제에서 학습한 lr_reg, ridge_reg, lasso_reg 모델의 CV RMSE값 출력           \n",
    "models = [lr_reg, ridge_reg, lasso_reg]\n",
    "get_avg_rmse_cv(models)"
   ]
  },
  {
   "cell_type": "markdown",
   "id": "a9a7564a",
   "metadata": {},
   "source": [
    "### 두번째 결과 (5폴드 교차검증)\n",
    "\n",
    "- 5개 폴드 세트로 학습한 후 평가해도 \n",
    "    - **여전히 라쏘 모델(0.686)이 다른 회귀 모델에 비해 성능이 떨어짐**"
   ]
  },
  {
   "cell_type": "markdown",
   "id": "7d3b1157",
   "metadata": {},
   "source": [
    "----------------------------------------"
   ]
  },
  {
   "cell_type": "markdown",
   "id": "66b0f376",
   "metadata": {},
   "source": [
    "### 리지/라쏘 모델에 대해 alpha 하이퍼파라미터 튜닝 후 재학습/예측/평가"
   ]
  },
  {
   "cell_type": "code",
   "execution_count": 45,
   "id": "1c9462fc",
   "metadata": {},
   "outputs": [],
   "source": [
    "from sklearn.model_selection import GridSearchCV\n",
    "# 모델과 하이퍼 파라미터 딕셔너리 객체를 받아서\n",
    "# 최적화 작업의 결과를 표시하는 함수\n",
    "# 릿지 모델과 라쏘 모델의 최적화 alpha 값 추출\n",
    "\n",
    "def get_best_params(model, params) :\n",
    "    \n",
    "    grid_model = GridSearchCV(model, param_grid=params, \n",
    "                              scoring='neg_mean_squared_error', cv=5)\n",
    "    grid_model.fit(X_features, y_target)\n",
    "    rmse = np.sqrt(-1 * grid_model.best_score_)\n",
    "    \n",
    "    print('{0} 5 CV 시 최적 평균 RMSE 값: {1}, 최적 alpha:{2}'.format(model.__class__.__name__,\n",
    "                                                              np.round(rmse, 4), grid_model.best_params_))\n",
    "    \n",
    "    return grid_model.best_estimator_ # 최적 파라미터로 재학습된 모델 반환"
   ]
  },
  {
   "cell_type": "code",
   "execution_count": 46,
   "id": "e3c9aee6",
   "metadata": {},
   "outputs": [],
   "source": [
    "ridge_params = {'alpha' : [0.00001, 0.0001, 0.001, 0.005, 0.01, 0.05, 0.1, 1, 5, 7, 10]}\n",
    "\n",
    "lasso_params = {'alpha' : [0.00001, 0.0001, 0.001, 0.005, 0.01, 0.05, 0.1, 1, 5, 7, 10]}"
   ]
  },
  {
   "cell_type": "code",
   "execution_count": 47,
   "id": "b7c87cbf",
   "metadata": {},
   "outputs": [
    {
     "name": "stdout",
     "output_type": "stream",
     "text": [
      "Ridge 5 CV 시 최적 평균 RMSE 값: 0.5055, 최적 alpha:{'alpha': 1e-05}\n",
      "Lasso 5 CV 시 최적 평균 RMSE 값: 0.5055, 최적 alpha:{'alpha': 1e-05}\n"
     ]
    }
   ],
   "source": [
    "best_ridge = get_best_params(ridge_reg, ridge_params)\n",
    "\n",
    "best_lasso = get_best_params(lasso_reg, lasso_params)"
   ]
  },
  {
   "cell_type": "markdown",
   "id": "4add5285",
   "metadata": {},
   "source": [
    "### Ridge 5 CV 시 최적 평균 RMSE 값: 0.5025, 최적 alpha:{'alpha': 1e-05 (X) => 0.05 (O)}\n",
    "### Lasso 5 CV 시 최적 평균 RMSE 값: 0.5025, 최적 alpha:{'alpha': 0.00001 (O)}"
   ]
  },
  {
   "cell_type": "markdown",
   "id": "ffbd0c2a",
   "metadata": {},
   "source": [
    "#### alpha 범위 : 0.00001 ~ 10"
   ]
  },
  {
   "cell_type": "code",
   "execution_count": 48,
   "id": "c3d11b3e",
   "metadata": {},
   "outputs": [],
   "source": [
    "### 알파값(alpha)을 변경(0.00001 ~ 10)하면서 최적의 파라미터를 찾기 위해\n",
    "alpha = [0.00001, 0.0001, 0.001, 0.005, 0.01, 0.05, 0.1, 1, 5, 7, 10] # 0.00001 ~ 10"
   ]
  },
  {
   "cell_type": "code",
   "execution_count": 49,
   "id": "d9f6bfbc",
   "metadata": {},
   "outputs": [],
   "source": [
    "from sklearn.model_selection import GridSearchCV\n",
    "\n",
    "def get_params(model, params) :\n",
    "    param_list = []\n",
    "    for param in params :\n",
    "        param_alpha = {'alpha' : [param]} # 딕셔너리 형태로 넘겨줘야!!\n",
    "        grid_model = GridSearchCV(model, param_grid=param_alpha, scoring='neg_mean_squared_error', cv=5)\n",
    "        grid_model.fit(X_features, y_target)\n",
    "        rmse = np.sqrt(-1 * grid_model.best_score_) # best_score_ => mse (cv=5 => 5번 돌리는 동안)\n",
    "    \n",
    "        param_list.append(rmse)\n",
    "    \n",
    "    return param_list # 최적 파라미터로 재학습된 모델을 반환해주게 됨"
   ]
  },
  {
   "cell_type": "markdown",
   "id": "c841bec9",
   "metadata": {},
   "source": [
    "###  릿지 => 0.01 : 0.5054741749167726 ('0.5054741'에서 변함 없으므로 0.01이 최적의 alpha 값)\n",
    "#### '릿지는 0.01이 최적의 파라미터 alpha이다.'"
   ]
  },
  {
   "cell_type": "code",
   "execution_count": 50,
   "id": "2b24761d",
   "metadata": {
    "scrolled": true
   },
   "outputs": [
    {
     "name": "stdout",
     "output_type": "stream",
     "text": [
      "1e-05 0.5054741671468498\n",
      "0.0001 0.5054741672168392\n",
      "0.001 0.5054741679167429\n",
      "0.005 0.5054741710276446\n",
      "0.01 0.5054741749167726\n",
      "0.05 0.5054742060498265\n",
      "0.1 0.5054742450162089\n",
      "1 0.5054749559017533\n",
      "5 0.5054783305025599\n",
      "7 0.5054801474459105\n",
      "10 0.5054830316461933\n"
     ]
    }
   ],
   "source": [
    "for i in range(len(alpha)) :\n",
    "    print(alpha[i], get_params(ridge_reg, alpha)[i]) # 0.01 0.5054741"
   ]
  },
  {
   "cell_type": "markdown",
   "id": "88bc4ad2",
   "metadata": {},
   "source": [
    "### 라쏘=> 0.0001 : 0.5054880179693914 ('0.5054'에서 변함 없으므로 0.0001이 최적의 alpha 값)\n",
    "#### '라쏘는 0.0001 이 최적의 파라미터 alpha이다.'"
   ]
  },
  {
   "cell_type": "code",
   "execution_count": 51,
   "id": "ee8dec2b",
   "metadata": {},
   "outputs": [
    {
     "name": "stdout",
     "output_type": "stream",
     "text": [
      "1e-05 0.5054756309387951\n",
      "0.0001 0.5054880179693914\n",
      "0.001 0.5057379766800522\n",
      "0.005 0.5082687870009309\n",
      "0.01 0.511816923032265\n",
      "0.05 0.5297282513808985\n",
      "0.1 0.5776042095308029\n",
      "1 0.6866870577085907\n",
      "5 0.6920298540111377\n",
      "7 0.6929709645651637\n",
      "10 0.6932357326606897\n"
     ]
    }
   ],
   "source": [
    "for i in range(len(alpha )) :\n",
    "    print(alpha[i], get_params(lasso_reg, alpha)[i]) # 0.0001 0.5054"
   ]
  },
  {
   "cell_type": "code",
   "execution_count": 52,
   "id": "976b836e",
   "metadata": {},
   "outputs": [
    {
     "data": {
      "text/plain": [
       "Lasso(alpha=0.0001)"
      ]
     },
     "execution_count": 52,
     "metadata": {},
     "output_type": "execute_result"
    }
   ],
   "source": [
    "lr_reg = LinearRegression()\n",
    "lr_reg.fit(X_train, y_train)\n",
    "\n",
    "ridge_reg = Ridge(alpha=0.01)    # 위에서 구한 최적의 알파 값(0.01)을 릿지에 대입\n",
    "ridge_reg.fit(X_train, y_train)\n",
    "\n",
    "lasso_reg = Lasso(alpha=0.0001) # 위에서 구한 최적의 알파 값(0.0001)을 라쏘에 대입\n",
    "lasso_reg.fit(X_train, y_train)"
   ]
  },
  {
   "cell_type": "code",
   "execution_count": 53,
   "id": "594f6f2a",
   "metadata": {
    "scrolled": true
   },
   "outputs": [
    {
     "name": "stdout",
     "output_type": "stream",
     "text": [
      "LinearRegression 로그 변환된 RMSE: 0.505\n",
      "Ridge 로그 변환된 RMSE: 0.505\n",
      "Lasso 로그 변환된 RMSE: 0.505\n"
     ]
    },
    {
     "data": {
      "text/plain": [
       "[0.5053885802369388, 0.5053886016321905, 0.5054157206421335]"
      ]
     },
     "execution_count": 53,
     "metadata": {},
     "output_type": "execute_result"
    }
   ],
   "source": [
    "# 모든 모델의 RMSE 출력\n",
    "models = [lr_reg, ridge_reg, lasso_reg]\n",
    "get_rmses(models)"
   ]
  },
  {
   "cell_type": "code",
   "execution_count": 54,
   "id": "4a32d817",
   "metadata": {},
   "outputs": [
    {
     "data": {
      "image/png": "[encoded data removed]",
      "text/plain": [
       "<Figure size 1440x720 with 3 Axes>"
      ]
     },
     "metadata": {
      "needs_background": "light"
     },
     "output_type": "display_data"
    }
   ],
   "source": [
    "# 모든 모델의 회귀 계수 시각화 \n",
    "models = [lr_reg, ridge_reg, lasso_reg]\n",
    "visualize_coefficient(models)"
   ]
  },
  {
   "cell_type": "markdown",
   "id": "a0e06588",
   "metadata": {},
   "source": [
    "### 세번째 결과 (리지/라쏘 모델에 대해 alpha 하이퍼파라미터 튜닝 후)\n",
    "\n",
    "- 릿지 모델 : **alpha가 0.01**에서 최적 평균 RMSE가 **0.5054741**\n",
    "- 라쏘 모델 : **alpha가 0.00001**에서 최적 평균 RMSE가 **0.50248**\n",
    "\n",
    "\n",
    "#### 라쏘 : alpha 최적화한 후 예측 성능 향상됨! (0.686 -> 0.502)"
   ]
  },
  {
   "cell_type": "markdown",
   "id": "1243f094",
   "metadata": {},
   "source": [
    "-----------------------------------------------------------"
   ]
  },
  {
   "cell_type": "markdown",
   "id": "49864c8b",
   "metadata": {},
   "source": [
    "### 데이터 세트를 추가적으로 가공해서 모델 튜닝을 좀 더 진행\n",
    "\n",
    "1. 피처 데이터 세트의 데이터 **분포도** 확인  \n",
    "2. **이상치 데이터 처리**"
   ]
  },
  {
   "cell_type": "markdown",
   "id": "6ea2c0ff",
   "metadata": {},
   "source": [
    "#### 위에서 미리 원핫 인코딩을 준비함 (df_ohe)"
   ]
  },
  {
   "cell_type": "code",
   "execution_count": 55,
   "id": "2783b738",
   "metadata": {},
   "outputs": [],
   "source": [
    "from scipy.stats import skew\n",
    "\n",
    "\n",
    "# 숫자형 피처에서 원-핫 인코딩된 카테고리 숫자형 피처는 제외\n",
    "# '원본 데이터'에서 dtype이 '오브젝트가 아닌 걸'로 가져와야 함\n",
    "features_index = df_ohe.dtypes[df_ohe.dtypes != 'object'].index"
   ]
  },
  {
   "cell_type": "code",
   "execution_count": 56,
   "id": "174f942d",
   "metadata": {},
   "outputs": [
    {
     "data": {
      "text/plain": [
       "Index(['price', 'minimum_nights', 'number_of_reviews', 'reviews_per_month',\n",
       "       'calculated_host_listings_count', 'availability_365', 'ng_Bronx',\n",
       "       'ng_Brooklyn', 'ng_Manhattan', 'ng_Queens', 'ng_Staten Island',\n",
       "       'rt_Entire home/apt', 'rt_Private room', 'rt_Shared room'],\n",
       "      dtype='object')"
      ]
     },
     "execution_count": 56,
     "metadata": {},
     "output_type": "execute_result"
    }
   ],
   "source": [
    "features_index"
   ]
  },
  {
   "cell_type": "code",
   "execution_count": 57,
   "id": "c05356d7",
   "metadata": {},
   "outputs": [
    {
     "data": {
      "text/plain": [
       "price                              0.629496\n",
       "minimum_nights                    11.615998\n",
       "number_of_reviews                  3.690570\n",
       "reviews_per_month                  3.752118\n",
       "calculated_host_listings_count     7.930835\n",
       "availability_365                   0.864550\n",
       "ng_Bronx                           6.469751\n",
       "ng_Brooklyn                        0.361483\n",
       "ng_Manhattan                       0.229113\n",
       "ng_Queens                          2.399848\n",
       "ng_Staten Island                  11.314878\n",
       "rt_Entire home/apt                -0.078883\n",
       "rt_Private room                    0.174178\n",
       "rt_Shared room                     6.266003\n",
       "dtype: float64"
      ]
     },
     "execution_count": 57,
     "metadata": {},
     "output_type": "execute_result"
    }
   ],
   "source": [
    "df_ohe[features_index].apply(lambda x : skew(x)) # 어플라이 함수 내부에 들어가는 내용이 사용자 정의 함수로 들어가야 함\n",
    "\n",
    "# 람다식을 통해 간단한 함수 만들어서 어플라이 함수 진행\n",
    "# 각각의 컬러마다 skew 함수 적용!"
   ]
  },
  {
   "cell_type": "markdown",
   "id": "cac36411",
   "metadata": {},
   "source": [
    "### skew 정도가 '1' 이상이면 많이 왜곡됐다고 봄 => 1 이상인 컬럼만 추출 진행"
   ]
  },
  {
   "cell_type": "code",
   "execution_count": 58,
   "id": "d1e5b667",
   "metadata": {},
   "outputs": [],
   "source": [
    "skew_featrues = df_ohe[features_index].apply(lambda x : skew(x))"
   ]
  },
  {
   "cell_type": "code",
   "execution_count": 59,
   "id": "e8fe7139",
   "metadata": {
    "scrolled": true
   },
   "outputs": [
    {
     "name": "stdout",
     "output_type": "stream",
     "text": [
      "minimum_nights                    11.615998\n",
      "ng_Staten Island                  11.314878\n",
      "calculated_host_listings_count     7.930835\n",
      "ng_Bronx                           6.469751\n",
      "rt_Shared room                     6.266003\n",
      "reviews_per_month                  3.752118\n",
      "number_of_reviews                  3.690570\n",
      "ng_Queens                          2.399848\n",
      "dtype: float64\n"
     ]
    }
   ],
   "source": [
    "skew_features_top = skew_featrues[skew_featrues > 1]   # 왜곡정도가 '1'보다 큰\n",
    "print(skew_features_top.sort_values(ascending=False))  # 내림차순 정렬"
   ]
  },
  {
   "cell_type": "markdown",
   "id": "ae344cef",
   "metadata": {},
   "source": [
    "### 왜곡이 심한 컬럼에 로그변환 후 재학습/예측/평가"
   ]
  },
  {
   "cell_type": "code",
   "execution_count": 60,
   "id": "f76d974d",
   "metadata": {},
   "outputs": [],
   "source": [
    "df_ohe[skew_features_top.index] = np.log1p(df_ohe[skew_features_top.index])"
   ]
  },
  {
   "cell_type": "markdown",
   "id": "1a9f2b2e",
   "metadata": {},
   "source": [
    "### Skew가 높은(1보다 큰) 피처들을 로그 변환 했으므로 다시 원-핫 인코딩 적용 "
   ]
  },
  {
   "cell_type": "code",
   "execution_count": 61,
   "id": "cf8d6c3b",
   "metadata": {},
   "outputs": [],
   "source": [
    "# Skew가 높은 피처들을 로그 변환 했으므로 \n",
    "# 다시 원-핫 인코딩 적용 \n",
    "# 피처/타겟 데이터 세트 다시 생성\n",
    "# 최적 alpha 값과 RMSE 출력\n",
    "\n",
    "# 원-핫 인코딩\n",
    "airbnb_df_ohe = pd.get_dummies(df_ohe)\n",
    "# 피처/타겟 데이터 세트 다시 생성\n",
    "y_target = airbnb_df_ohe['price']\n",
    "X_features = airbnb_df_ohe.drop('price',axis=1, inplace=False)\n",
    "\n",
    "# 학습 데이터와 테스트 데이터 분리\n",
    "X_train, X_test, y_train, y_test = train_test_split(X_features, y_target, test_size=0.2, random_state=156)"
   ]
  },
  {
   "cell_type": "code",
   "execution_count": 62,
   "id": "55ed3453",
   "metadata": {
    "scrolled": true
   },
   "outputs": [
    {
     "name": "stdout",
     "output_type": "stream",
     "text": [
      "Ridge 5 CV 시 최적 평균 RMSE 값: 0.4991, 최적 alpha:{'alpha': 1e-06}\n",
      "Lasso 5 CV 시 최적 평균 RMSE 값: 0.4991, 최적 alpha:{'alpha': 1e-06}\n"
     ]
    }
   ],
   "source": [
    "# 피처들을 로그 변환 후 다시 최적 하이퍼 파라미터와 RMSE 출력\n",
    "ridge_params = { 'alpha' : [0.000001, 0.00001, 0.0001, 0.001, 0.005, 0.01, 0.05, 0.1, 1, 5, 7, 10] }\n",
    "lasso_params = { 'alpha' : [0.000001, 0.00001, 0.0001, 0.001, 0.005, 0.01, 0.05, 0.1, 1, 5, 7, 10] }\n",
    "best_ridge = get_best_params(ridge_reg, ridge_params)\n",
    "best_lasso = get_best_params(lasso_reg, lasso_params)"
   ]
  },
  {
   "cell_type": "markdown",
   "id": "2137b883",
   "metadata": {},
   "source": [
    "### 네번째 결과 (왜곡이 심한 컬럼에 로그변환 후)\n",
    "- 릿지 : 1e-06 (RMSE 값이 계속 감소함 => 리스트에서 가장 작은 값이 최적 alpha 값이 됨) => 최적 평균 RMSE 값: 0.4991, 최적 alpha:{'alpha': 1e-06}\n",
    "\n",
    "\n",
    "- 라쏘 : 1e-06 => 최적 평균 RMSE 값: 0.4991, 최적 alpha:{'alpha': 1e-06}\n"
   ]
  },
  {
   "cell_type": "code",
   "execution_count": 63,
   "id": "3c918df3",
   "metadata": {},
   "outputs": [
    {
     "data": {
      "text/plain": [
       "Lasso(alpha=0.0001)"
      ]
     },
     "execution_count": 63,
     "metadata": {},
     "output_type": "execute_result"
    }
   ],
   "source": [
    "# 분할된 학습/테스트 데이터를 이용해서\n",
    "# 모델의 학습/예측/평가 및 모델별 회귀 계수 시각화\n",
    "\n",
    "# 앞의 최적화 alpha값으로 학습데이터로 학습, 테스트 데이터로 예측 및 평가 수행. \n",
    "lr_reg = LinearRegression()\n",
    "lr_reg.fit(X_train, y_train)\n",
    "\n",
    "ridge_reg = Ridge(alpha=0.01)    # 0.01 (위에서 찾은 값)\n",
    "ridge_reg.fit(X_train, y_train)\n",
    "\n",
    "lasso_reg = Lasso(alpha=0.0001) # 0.0001 (위에서 찾은 값)\n",
    "lasso_reg.fit(X_train, y_train)"
   ]
  },
  {
   "cell_type": "code",
   "execution_count": 64,
   "id": "1a527b7f",
   "metadata": {},
   "outputs": [
    {
     "name": "stdout",
     "output_type": "stream",
     "text": [
      "LinearRegression 로그 변환된 RMSE: 0.501\n",
      "Ridge 로그 변환된 RMSE: 0.501\n",
      "Lasso 로그 변환된 RMSE: 0.501\n"
     ]
    },
    {
     "data": {
      "text/plain": [
       "[0.5005631393431758, 0.5005631088299637, 0.5005467945791696]"
      ]
     },
     "execution_count": 64,
     "metadata": {},
     "output_type": "execute_result"
    }
   ],
   "source": [
    "# 모든 모델의 RMSE cnffur\n",
    "models = [lr_reg, ridge_reg, lasso_reg]\n",
    "get_rmses(models)"
   ]
  },
  {
   "cell_type": "code",
   "execution_count": 65,
   "id": "2cecebe2",
   "metadata": {},
   "outputs": [
    {
     "data": {
      "image/png": "[encoded data removed]",
      "text/plain": [
       "<Figure size 1440x720 with 3 Axes>"
      ]
     },
     "metadata": {
      "needs_background": "light"
     },
     "output_type": "display_data"
    }
   ],
   "source": [
    "# 모든 모델의 회귀 계수 시각화 \n",
    "models = [lr_reg, ridge_reg, lasso_reg]\n",
    "visualize_coefficient(models)"
   ]
  },
  {
   "cell_type": "markdown",
   "id": "c4fd300b",
   "metadata": {},
   "source": [
    "### 확인 결과\n",
    "\n",
    "- 모든 모델이 **rt_Entire_home/apt**를 가장 중요한 피처(**상관성이 높음**)로 **보고 있음을 확인**"
   ]
  },
  {
   "cell_type": "markdown",
   "id": "215a2fb1",
   "metadata": {},
   "source": [
    "### 결과\n",
    "\n",
    "- 세 모델 모두 **rt_Entire_home/apt**가 회귀 계수가 **가장 높은 피처**가 됨\n",
    "    - **room type이 주택 가격에 미치는 영향이 제일 높다는 의미**\n",
    "    - **결과가 상식적으로 도출됨**\n",
    "    - **맨하탄 역시 가격과 상관관계가 있음을 확인**"
   ]
  },
  {
   "cell_type": "markdown",
   "id": "94eef67a",
   "metadata": {},
   "source": [
    "----------------------------------------------------------------"
   ]
  },
  {
   "cell_type": "code",
   "execution_count": 66,
   "id": "e02a53b9",
   "metadata": {
    "scrolled": true
   },
   "outputs": [
    {
     "data": {
      "image/png": "[encoded data removed]",
      "text/plain": [
       "<Figure size 432x288 with 1 Axes>"
      ]
     },
     "metadata": {
      "needs_background": "light"
     },
     "output_type": "display_data"
    }
   ],
   "source": [
    "plt.scatter(x=airbnb_df_ohe['rt_Entire home/apt'], y=airbnb_df_ohe['price']) # 원본 데이터로 확인\n",
    "plt.ylabel('price', fontsize=15)\n",
    "plt.xlabel('rt_Entire home/apt', fontsize=15)\n",
    "plt.show()"
   ]
  },
  {
   "cell_type": "markdown",
   "id": "ba508830",
   "metadata": {},
   "source": [
    "### 원-핫 인코딩된 값이므로 0과 1 밖에 없음 => 이상치 확인을 할 수가 없음\n",
    "### 따라서 앞에서 계획한 이상치 제거는 패스"
   ]
  },
  {
   "cell_type": "markdown",
   "id": "5096a163",
   "metadata": {},
   "source": [
    "----------------------------------------------------------"
   ]
  },
  {
   "cell_type": "markdown",
   "id": "15dc85eb",
   "metadata": {},
   "source": [
    "## 회귀 트리 학습/예측/평가 (강의에서 했던 예제 파라미터와 동일하게 설정)\n",
    "\n",
    "**XGBoost와 LightGBM 학습/예측/평가**"
   ]
  },
  {
   "cell_type": "code",
   "execution_count": 67,
   "id": "4d1110fd",
   "metadata": {},
   "outputs": [
    {
     "name": "stdout",
     "output_type": "stream",
     "text": [
      "XGBRegressor 5 CV 시 최적 평균 RMSE 값: 0.4881, 최적 alpha:{'n_estimators': 1000}\n"
     ]
    }
   ],
   "source": [
    "# XGBoost와 LightGBM 모두 수행 시간이 오래 걸릴 수 있는 관계로\n",
    "# 하이퍼 파라미터 설정을 미리 적용한 상태로\n",
    "# 5 폴드 세트에 대한 평균 RMSE 값 추출\n",
    "from xgboost import XGBRegressor\n",
    "\n",
    "xgb_params = {'n_estimators' : [1000]}\n",
    "\n",
    "xgb_reg = XGBRegressor(n_estimators=1000, learning_rate=0.05, colsample_bytree=0.5, subsample=0.8)\n",
    "\n",
    "best_xgb = get_best_params(xgb_reg, xgb_params)"
   ]
  },
  {
   "cell_type": "code",
   "execution_count": 68,
   "id": "91c842bf",
   "metadata": {},
   "outputs": [
    {
     "name": "stdout",
     "output_type": "stream",
     "text": [
      "LGBMRegressor 5 CV 시 최적 평균 RMSE 값: 0.486, 최적 alpha:{'n_estimators': 1000}\n"
     ]
    }
   ],
   "source": [
    "# 이번에는 LightGBM 회귀 트리 적용\n",
    "from lightgbm import LGBMRegressor\n",
    "\n",
    "lgbm_params = {'n_estimators':[1000]}\n",
    "\n",
    "lgbm_reg = LGBMRegressor(n_estimators=1000, learning_rate=0.05, num_leaves=4, \n",
    "                         subsample=0.6, colsample_bytree=0.4, reg_lambda=10, n_jobs=-1)\n",
    "\n",
    "best_lgbm = get_best_params(lgbm_reg, lgbm_params)"
   ]
  },
  {
   "cell_type": "code",
   "execution_count": 69,
   "id": "c82c69b4",
   "metadata": {},
   "outputs": [],
   "source": [
    "# 모델의 중요도 상위 20개의 피처명과 그때의 중요도 값을 Series로 반환\n",
    "def get_top_features(model):\n",
    "    ftr_importances_values = model.feature_importances_\n",
    "    ftr_importances = pd.Series(ftr_importances_values, index=X_features.columns)\n",
    "    ftr_top20 = ftr_importances.sort_values(ascending=False)[:20]\n",
    "    return ftr_top20\n",
    "\n",
    "def visualize_ftr_importances(models):\n",
    "    # 2개 회귀 모델의 시각화를 위해 2개의 컬럼을 가지는 subplot 생성\n",
    "    fig, axs = plt.subplots(figsize=(24,10),nrows=1, ncols=2)\n",
    "    fig.tight_layout() \n",
    "    # 입력인자로 받은 list객체인 models에서 차례로 model을 추출하여 피처 중요도 시각화. \n",
    "    for i_num, model in enumerate(models):\n",
    "        # 중요도 상위 20개의 피처명과 그때의 중요도값 추출 \n",
    "        ftr_top20 = get_top_features(model)\n",
    "        axs[i_num].set_title(model.__class__.__name__+' Feature Importances', size=25)\n",
    "        #font 크기 조정.\n",
    "        for label in (axs[i_num].get_xticklabels() + axs[i_num].get_yticklabels()):\n",
    "            label.set_fontsize(22)\n",
    "        sns.barplot(x=ftr_top20.values, y=ftr_top20.index , ax=axs[i_num])"
   ]
  },
  {
   "cell_type": "code",
   "execution_count": 70,
   "id": "cb7ef9b4",
   "metadata": {
    "scrolled": false
   },
   "outputs": [
    {
     "data": {
      "image/png": "[encoded data removed]",
      "text/plain": [
       "<Figure size 1728x720 with 2 Axes>"
      ]
     },
     "metadata": {
      "needs_background": "light"
     },
     "output_type": "display_data"
    }
   ],
   "source": [
    "models = [best_xgb, best_lgbm]\n",
    "visualize_ftr_importances(models)"
   ]
  },
  {
   "cell_type": "markdown",
   "id": "6c65cdd3",
   "metadata": {},
   "source": [
    "### 결과\n",
    "- XGBRegressor 5 CV 시 최적 평균 RMSE 값: 0.4881, 최적 alpha:{'n_estimators': 1000}\n",
    "- LGBMRegressor 5 CV 시 최적 평균 RMSE 값: 0.486, 최적 alpha:{'n_estimators': 1000}"
   ]
  },
  {
   "cell_type": "markdown",
   "id": "61422499",
   "metadata": {},
   "source": [
    "---------------------------------------------------"
   ]
  },
  {
   "cell_type": "markdown",
   "id": "71ad94c7",
   "metadata": {},
   "source": [
    "### 회귀 모델들의 예측 결과 혼합을 통한 최종 예측\n",
    "\n",
    "- 개별 회귀 모델의 예측 결과값을 혼합해서 이를 기반으로 최종 회귀값을 예측하는 방법임\n",
    "\n",
    "\n",
    "- ex) A모델, B모델이 있음\n",
    "\n",
    "\n",
    "    - A모델의 예측값의 40%, B모델의 예측값의 60%를 더해서 최종 회귀값으로 예측하게 됨\n",
    "    - A[100, 80, 60], B[120, 80, 50]\n",
    "    - >> [100 * 0.4 + 120 * 0.6, 80 * 0.4 + 80 * 0.6, 60 * 0.4 + 50 * 0.6]"
   ]
  },
  {
   "cell_type": "code",
   "execution_count": 71,
   "id": "f6a2b340",
   "metadata": {},
   "outputs": [],
   "source": [
    "# 최종 혼합 모델과 개별 모델의 RMSE 값 출력하는 함수 생성\n",
    "def get_rmse_pred(preds):\n",
    "    for key in preds.keys():\n",
    "        pred_value = preds[key]\n",
    "        mse = mean_squared_error(y_test , pred_value)\n",
    "        rmse = np.sqrt(mse)\n",
    "        print('{0} 모델의 RMSE: {1}'.format(key, rmse))"
   ]
  },
  {
   "cell_type": "code",
   "execution_count": 72,
   "id": "681eed32",
   "metadata": {},
   "outputs": [],
   "source": [
    "# 개별 모델 학습\n",
    "ridge_reg = Ridge(alpha=0.01)    # 위에서 찾은 최적의 alpha 값 (0.01)\n",
    "ridge_reg.fit(X_train, y_train)\n",
    "\n",
    "lasso_reg = Lasso(alpha=0.0001) # 위에서 찾은 최적의 alpha 값 (0.0001)\n",
    "lasso_reg.fit(X_train, y_train)\n",
    "\n",
    "# 개별 모델 예측\n",
    "ridge_pred = ridge_reg.predict(X_test)\n",
    "lasso_pred = lasso_reg.predict(X_test)"
   ]
  },
  {
   "cell_type": "code",
   "execution_count": 73,
   "id": "f2166608",
   "metadata": {},
   "outputs": [
    {
     "name": "stdout",
     "output_type": "stream",
     "text": [
      "최종 혼합 모델의 RMSE: 0.5005520028265596\n",
      "Ridge 모델의 RMSE: 0.5005631088299637\n",
      "Lasso 모델의 RMSE: 0.5005467945791696\n"
     ]
    }
   ],
   "source": [
    "# 개별 모델 예측값 혼합으로 최종 예측값 도출\n",
    "pred = 0.4 * ridge_pred + 0.6 * lasso_pred\n",
    "\n",
    "preds = {'최종 혼합': pred,\n",
    "         'Ridge': ridge_pred,\n",
    "         'Lasso': lasso_pred}\n",
    "\n",
    "# 최종 혼합 모델, 개별 모델의 RMSE 값 출력\n",
    "get_rmse_pred(preds)"
   ]
  },
  {
   "cell_type": "code",
   "execution_count": 74,
   "id": "f5462d40",
   "metadata": {
    "scrolled": true
   },
   "outputs": [
    {
     "name": "stdout",
     "output_type": "stream",
     "text": [
      "최종 혼합 모델의 RMSE: 0.5005535793621647\n",
      "Ridge 모델의 RMSE: 0.5005631088299637\n",
      "Lasso 모델의 RMSE: 0.5005467945791696\n"
     ]
    }
   ],
   "source": [
    "# 개별 모델 예측값 혼합으로 최종 예측값 도출\n",
    "pred = 0.5 * ridge_pred + 0.5 * lasso_pred\n",
    "\n",
    "preds = {'최종 혼합': pred,\n",
    "         'Ridge': ridge_pred,\n",
    "         'Lasso': lasso_pred}\n",
    "\n",
    "# 최종 혼합 모델, 개별 모델의 RMSE 값 출력\n",
    "get_rmse_pred(preds)"
   ]
  },
  {
   "cell_type": "code",
   "execution_count": 75,
   "id": "5168914a",
   "metadata": {},
   "outputs": [
    {
     "name": "stdout",
     "output_type": "stream",
     "text": [
      "최종 혼합 모델의 RMSE: 0.5005552656853062\n",
      "Ridge 모델의 RMSE: 0.5005631088299637\n",
      "Lasso 모델의 RMSE: 0.5005467945791696\n"
     ]
    }
   ],
   "source": [
    "# 개별 모델 예측값 혼합으로 최종 예측값 도출\n",
    "pred = 0.6 * ridge_pred + 0.4 * lasso_pred\n",
    "\n",
    "preds = {'최종 혼합': pred,\n",
    "         'Ridge': ridge_pred,\n",
    "         'Lasso': lasso_pred}\n",
    "\n",
    "# 최종 혼합 모델, 개별 모델의 RMSE 값 출력\n",
    "get_rmse_pred(preds)"
   ]
  },
  {
   "cell_type": "code",
   "execution_count": 76,
   "id": "937b4678",
   "metadata": {},
   "outputs": [
    {
     "name": "stdout",
     "output_type": "stream",
     "text": [
      "최종 혼합 모델의 RMSE: 0.5005570617948749\n",
      "Ridge 모델의 RMSE: 0.5005631088299637\n",
      "Lasso 모델의 RMSE: 0.5005467945791696\n"
     ]
    }
   ],
   "source": [
    "# 개별 모델 예측값 혼합으로 최종 예측값 도출\n",
    "pred = 0.7 * ridge_pred + 0.3 * lasso_pred\n",
    "\n",
    "preds = {'최종 혼합': pred,\n",
    "         'Ridge': ridge_pred,\n",
    "         'Lasso': lasso_pred}\n",
    "\n",
    "# 최종 혼합 모델, 개별 모델의 RMSE 값 출력\n",
    "get_rmse_pred(preds)"
   ]
  },
  {
   "cell_type": "code",
   "execution_count": 77,
   "id": "392d9314",
   "metadata": {},
   "outputs": [
    {
     "name": "stdout",
     "output_type": "stream",
     "text": [
      "최종 혼합 모델의 RMSE: 0.5005505360795286\n",
      "Ridge 모델의 RMSE: 0.5005631088299637\n",
      "Lasso 모델의 RMSE: 0.5005467945791696\n"
     ]
    }
   ],
   "source": [
    "# 개별 모델 예측값 혼합으로 최종 예측값 도출\n",
    "pred = 0.3 * ridge_pred + 0.7 * lasso_pred\n",
    "\n",
    "preds = {'최종 혼합': pred,\n",
    "         'Ridge': ridge_pred,\n",
    "         'Lasso': lasso_pred}\n",
    "\n",
    "# 최종 혼합 모델, 개별 모델의 RMSE 값 출력\n",
    "get_rmse_pred(preds)"
   ]
  },
  {
   "cell_type": "markdown",
   "id": "3d8012ef",
   "metadata": {},
   "source": [
    "- **릿지:라쏘 = 4:6** >> 최종 혼합 모델의 **RMSE : 0.5005616016707409**\n",
    "\n",
    "\n",
    "- **릿지:라쏘 = 5:5** >> 최종 혼합 모델의 **RMSE : 0.5005618299776244**\n",
    "\n",
    "\n",
    "- **릿지:라쏘 = 6:4** >> 최종 혼합 모델의 **RMSE : 0.5005620593043049**\n",
    "\n",
    "\n",
    "- **릿지:라쏘 = 7:3** >> 최종 혼합 모델의 **RMSE : 0.5005622896507808**\n",
    "\n",
    "\n",
    "- **릿지:라쏘 = 3:7** >> 최종 혼합 모델의 **RMSE : 0.500561374383656**\n",
    "\n",
    "### 결과\n",
    "\n",
    "- 회귀 모델들의 예측 결과를 혼합해도 성능 향상을 보이지 않음 (0.503)"
   ]
  },
  {
   "cell_type": "markdown",
   "id": "24133ed7",
   "metadata": {},
   "source": [
    "---------------------------------------------------------"
   ]
  },
  {
   "cell_type": "markdown",
   "id": "0b0a96ff",
   "metadata": {},
   "source": [
    "### XGBoost와 LightGBM 혼합 (강의에서 한 예제와 똑같은 파라미터 값)"
   ]
  },
  {
   "cell_type": "code",
   "execution_count": 78,
   "id": "34de6820",
   "metadata": {},
   "outputs": [],
   "source": [
    "xgb_reg = XGBRegressor(objective='reg:squarederror', n_estimators=1000, learning_rate=0.05, # 손실함수를 집어넣음(교재에 있던 대로 작업하게 되면..워닝 어쩌구때문에 넣은거임 \n",
    "                       colsample_bytree=0.5, subsample=0.8)\n",
    "\n",
    "lgbm_reg = LGBMRegressor(n_estimators=1000, learning_rate=0.05, num_leaves=4, \n",
    "                         subsample=0.6, colsample_bytree=0.4, reg_lambda=10, n_jobs=-1)\n",
    "\n",
    "xgb_reg.fit(X_train, y_train)\n",
    "lgbm_reg.fit(X_train, y_train)\n",
    "xgb_pred = xgb_reg.predict(X_test)\n",
    "lgbm_pred = lgbm_reg.predict(X_test)"
   ]
  },
  {
   "cell_type": "code",
   "execution_count": 79,
   "id": "6dcf963a",
   "metadata": {},
   "outputs": [
    {
     "name": "stdout",
     "output_type": "stream",
     "text": [
      "최종 혼합 모델의 RMSE: 0.4710053718340854\n",
      "XGBM 모델의 RMSE: 0.47138887633011894\n",
      "LGBM 모델의 RMSE: 0.4782313314431707\n"
     ]
    }
   ],
   "source": [
    "pred = 0.5 * xgb_pred + 0.5 * lgbm_pred # 반반으로 혼합\n",
    "preds = {'최종 혼합': pred,\n",
    "         'XGBM': xgb_pred,\n",
    "         'LGBM': lgbm_pred}\n",
    "        \n",
    "get_rmse_pred(preds)"
   ]
  },
  {
   "cell_type": "markdown",
   "id": "8d5b3a77",
   "metadata": {},
   "source": [
    "### 결과\n",
    "\n",
    "- XGBM 모델 RMSE 0.4711961590938764\n",
    "- LGBM 모델 RMSE 0.47815500331850475\n",
    "\n",
    "\n",
    "- 많은 차이는 아니지만 개별 모델보다 혼합 예측 결과가 개별 RMSE보다 약간 향상됨 (0.47091470595878115)"
   ]
  },
  {
   "cell_type": "markdown",
   "id": "074b961e",
   "metadata": {},
   "source": [
    "------------------------------------------"
   ]
  },
  {
   "cell_type": "markdown",
   "id": "bd513dc1",
   "metadata": {},
   "source": [
    "### 스태킹 모델을 통한 회귀 예측"
   ]
  },
  {
   "cell_type": "code",
   "execution_count": 80,
   "id": "58ca70c4",
   "metadata": {},
   "outputs": [],
   "source": [
    "from sklearn.model_selection import KFold # 트레인 데이터를 학습/검증 세트로 분리하기 위해 필요\n",
    "from sklearn.metrics import mean_absolute_error"
   ]
  },
  {
   "cell_type": "code",
   "execution_count": 81,
   "id": "a232db7e",
   "metadata": {},
   "outputs": [],
   "source": [
    "# 개별 기반 모델(1개의 모델) 최종 모델이 사용할 학습 및 테스트 데이터를 생성하는 함수\n",
    "def get_stacking_base_datasets(model, X_train_n, y_train_n, X_test_n, n_folds) : \n",
    "    # 지정된 n_folds 값을 이용해서 KFold 객체 생성\n",
    "    kf = KFold(n_splits=n_folds, shuffle=True, random_state=0)  # n_split=n_folds : 몇 개로 나눌건지 폴드 갯수 설정\n",
    "    \n",
    "    # 최종 모델이 사용할 학습 데이터를 위한 초기 구성 : 넘파이 배열로 생성\n",
    "    train_fold_pred = np.zeros((X_train_n.shape[0],1)) # 아래 셀 예시 꼭 확인하기\n",
    "    test_pred = np.zeros((X_test_n.shape[0],n_folds)) # 아래 셀 예시 꼭 확인하기\n",
    "    \n",
    "    print(model.__class__.__name__ , ' model 시작 ')\n",
    "    \n",
    "    for folder_counter, (train_index, valid_index) in enumerate(kf.split(X_train_n)):\n",
    "        # 입력된 학습 데이터에서 기반 모델이 학습/예측할 폴드 데이터 셋 추출 \n",
    "        print('\\t 폴드 세트: ',folder_counter,' 시작 ')\n",
    "        X_tr = X_train_n[train_index] \n",
    "        y_tr = y_train_n[train_index] \n",
    "        X_te = X_train_n[valid_index]\n",
    "        \n",
    "        # 폴드 세트 내부에서 다시 만들어진 학습 데이터로 기반 모델의 학습 수행\n",
    "        model.fit(X_tr, y_tr)\n",
    "        \n",
    "        # 폴드 세트 내부에서 다시 만들어진 검증 데이터로 기반 모델 예측 후 데이터 저장\n",
    "        train_fold_pred[valid_index, :] = model.predict(X_te).reshape(-1,1)\n",
    "        \n",
    "        # 입력된 원본 테스트 데이터를 폴드 세트내 학습된 기반 모델에서 예측 후 데이터 저장\n",
    "        test_pred[:, folder_counter] = model.predict(X_test_n)\n",
    "        \n",
    "        # for문 벗어나기\n",
    "    # for문 나와서 테스트 데이터를 폴드 세트의 평균으로 생성\n",
    "    test_pred_mean = np.mean(test_pred, axis=1).reshape(-1,1)\n",
    "    \n",
    "    # train_fold_pred는 최종 메타 모델이 사용하는 학습 데이터, \n",
    "    # test_pred_mean은 테스트 데이터\n",
    "    return train_fold_pred , test_pred_mean"
   ]
  },
  {
   "cell_type": "code",
   "execution_count": 82,
   "id": "39a1c380",
   "metadata": {},
   "outputs": [],
   "source": [
    "# 생성한 함수가 ndarray를 인자로 사용하므로, df를 ndarray로 변환\n",
    "X_train_n = X_train.values\n",
    "X_test_n = X_test.values\n",
    "y_train_n = y_train.values"
   ]
  },
  {
   "cell_type": "code",
   "execution_count": 83,
   "id": "d76c26a5",
   "metadata": {},
   "outputs": [
    {
     "name": "stdout",
     "output_type": "stream",
     "text": [
      "Ridge  model 시작 \n",
      "\t 폴드 세트:  0  시작 \n",
      "\t 폴드 세트:  1  시작 \n",
      "\t 폴드 세트:  2  시작 \n",
      "\t 폴드 세트:  3  시작 \n",
      "\t 폴드 세트:  4  시작 \n",
      "Lasso  model 시작 \n",
      "\t 폴드 세트:  0  시작 \n",
      "\t 폴드 세트:  1  시작 \n",
      "\t 폴드 세트:  2  시작 \n",
      "\t 폴드 세트:  3  시작 \n",
      "\t 폴드 세트:  4  시작 \n",
      "XGBRegressor  model 시작 \n",
      "\t 폴드 세트:  0  시작 \n",
      "\t 폴드 세트:  1  시작 \n",
      "\t 폴드 세트:  2  시작 \n",
      "\t 폴드 세트:  3  시작 \n",
      "\t 폴드 세트:  4  시작 \n",
      "LGBMRegressor  model 시작 \n",
      "\t 폴드 세트:  0  시작 \n",
      "\t 폴드 세트:  1  시작 \n",
      "\t 폴드 세트:  2  시작 \n",
      "\t 폴드 세트:  3  시작 \n",
      "\t 폴드 세트:  4  시작 \n"
     ]
    }
   ],
   "source": [
    "# 각 개별 기반(Base)모델이 생성한 학습용/테스트용 데이터 반환\n",
    "ridge_train, ridge_test = get_stacking_base_datasets(ridge_reg, X_train_n, y_train_n, X_test_n, 5)\n",
    "lasso_train, lasso_test = get_stacking_base_datasets(lasso_reg, X_train_n, y_train_n, X_test_n, 5)\n",
    "xgb_train, xgb_test = get_stacking_base_datasets(xgb_reg, X_train_n, y_train_n, X_test_n, 5)  \n",
    "lgbm_train, lgbm_test = get_stacking_base_datasets(lgbm_reg, X_train_n, y_train_n, X_test_n, 5)"
   ]
  },
  {
   "cell_type": "code",
   "execution_count": 84,
   "id": "5baa3fb6",
   "metadata": {},
   "outputs": [],
   "source": [
    "# 각 개별 모델이 반환한 학습용 피처 데이터와 테스트용 피처 데이터 세트를 결합해서 최종 데이터 세트 생성\n",
    "Stack_final_X_train = np.concatenate((ridge_train, lasso_train, \n",
    "                                      xgb_train, lgbm_train), axis=1)\n",
    "\n",
    "Stack_final_X_test = np.concatenate((ridge_test, lasso_test, \n",
    "                                     xgb_test, lgbm_test), axis=1)"
   ]
  },
  {
   "cell_type": "markdown",
   "id": "80bb070d",
   "metadata": {},
   "source": [
    "### 릿지와 라쏘와 위에서 구한 최적의 파라미터값 근방에서 RMSE 값을 확인해야함!"
   ]
  },
  {
   "cell_type": "code",
   "execution_count": 85,
   "id": "39ebed5e",
   "metadata": {},
   "outputs": [
    {
     "name": "stdout",
     "output_type": "stream",
     "text": [
      "스태킹 회귀 모델의 최종 RMSE 값은: 0.4701996193033538\n"
     ]
    }
   ],
   "source": [
    "# 최종 모델은 라쏘 모델을 적용\n",
    "meta_model_lasso = Lasso(alpha=0.0001) # 위에서 구한 최적의 라쏘 alpha값 (0.0001)\n",
    "\n",
    "meta_model_lasso.fit(Stack_final_X_train, y_train)\n",
    "final = meta_model_lasso.predict(Stack_final_X_test)\n",
    "mse = mean_squared_error(y_test, final)\n",
    "rmse = np.sqrt(mse)\n",
    "\n",
    "print('스태킹 회귀 모델의 최종 RMSE 값은:', rmse) # 0.47018438542779417"
   ]
  },
  {
   "cell_type": "code",
   "execution_count": 86,
   "id": "71556abe",
   "metadata": {},
   "outputs": [
    {
     "name": "stdout",
     "output_type": "stream",
     "text": [
      "스태킹 회귀 모델의 최종 RMSE 값은: 0.47020102348817744\n"
     ]
    }
   ],
   "source": [
    "# 최종 모델은 릿지 모델을 적용\n",
    "meta_model_lasso = Ridge(alpha=0.01) # 위에서 구한 최적의 릿지 alpha값 (0.01)\n",
    "\n",
    "meta_model_lasso.fit(Stack_final_X_train, y_train)\n",
    "final = meta_model_lasso.predict(Stack_final_X_test)\n",
    "mse = mean_squared_error(y_test, final)\n",
    "rmse = np.sqrt(mse)\n",
    "\n",
    "print('스태킹 회귀 모델의 최종 RMSE 값은:', rmse) # 0.4701863517152465"
   ]
  },
  {
   "cell_type": "markdown",
   "id": "8b45e122",
   "metadata": {},
   "source": [
    "### 최종 모델은 XGB 모델을 적용\n",
    "#### n_estimators=1000"
   ]
  },
  {
   "cell_type": "code",
   "execution_count": 87,
   "id": "79c71f01",
   "metadata": {},
   "outputs": [
    {
     "name": "stdout",
     "output_type": "stream",
     "text": [
      "스태킹 회귀 모델의 최종 RMSE 값은: 0.5064452452340167\n"
     ]
    }
   ],
   "source": [
    "# 최종 모델은 XGB 모델을 적용\n",
    "meta_model_lasso = XGBRegressor(n_estimators=1000) # 1000일 때 (트리 개수)\n",
    "\n",
    "meta_model_lasso.fit(Stack_final_X_train, y_train)\n",
    "final = meta_model_lasso.predict(Stack_final_X_test)\n",
    "mse = mean_squared_error(y_test, final)\n",
    "rmse = np.sqrt(mse)\n",
    "\n",
    "print('스태킹 회귀 모델의 최종 RMSE 값은:', rmse) # 0.5022049295139932"
   ]
  },
  {
   "cell_type": "markdown",
   "id": "37426341",
   "metadata": {},
   "source": [
    "#### n_estimators=500"
   ]
  },
  {
   "cell_type": "code",
   "execution_count": 88,
   "id": "12c0c86c",
   "metadata": {},
   "outputs": [
    {
     "name": "stdout",
     "output_type": "stream",
     "text": [
      "스태킹 회귀 모델의 최종 RMSE 값은: 0.493777296459849\n"
     ]
    }
   ],
   "source": [
    "# 최종 모델은 XGB 모델을 적용\n",
    "meta_model_lasso = XGBRegressor(n_estimators=500) # 500일 때 (트리 개수)\n",
    "\n",
    "meta_model_lasso.fit(Stack_final_X_train, y_train)\n",
    "final = meta_model_lasso.predict(Stack_final_X_test)\n",
    "mse = mean_squared_error(y_test, final)\n",
    "rmse = np.sqrt(mse)\n",
    "\n",
    "print('스태킹 회귀 모델의 최종 RMSE 값은:', rmse) # 0.4907743515684592"
   ]
  },
  {
   "cell_type": "markdown",
   "id": "aa8bc60d",
   "metadata": {},
   "source": [
    "#### n_estimators=100"
   ]
  },
  {
   "cell_type": "code",
   "execution_count": 89,
   "id": "828a4361",
   "metadata": {},
   "outputs": [
    {
     "name": "stdout",
     "output_type": "stream",
     "text": [
      "스태킹 회귀 모델의 최종 RMSE 값은: 0.4769636609828657\n"
     ]
    }
   ],
   "source": [
    "# 최종 모델은 XGB 모델을 적용\n",
    "meta_model_lasso = XGBRegressor(n_estimators=100) # 100일 때 (트리 개수)\n",
    "\n",
    "meta_model_lasso.fit(Stack_final_X_train, y_train)\n",
    "final = meta_model_lasso.predict(Stack_final_X_test)\n",
    "mse = mean_squared_error(y_test, final)\n",
    "rmse = np.sqrt(mse)\n",
    "\n",
    "print('스태킹 회귀 모델의 최종 RMSE 값은:', rmse) # 0.47731067274056954"
   ]
  },
  {
   "cell_type": "markdown",
   "id": "49357113",
   "metadata": {},
   "source": [
    "### 최종 모델은 LGBM 모델을 적용\n",
    "#### n_estimators=1000"
   ]
  },
  {
   "cell_type": "code",
   "execution_count": 90,
   "id": "b480bb8f",
   "metadata": {},
   "outputs": [
    {
     "name": "stdout",
     "output_type": "stream",
     "text": [
      "스태킹 회귀 모델의 최종 RMSE 값은: 0.4846953930611633\n"
     ]
    }
   ],
   "source": [
    "# 최종 모델은 LGBM 모델을 적용\n",
    "meta_model_lasso = LGBMRegressor(n_estimators=1000)\n",
    "\n",
    "meta_model_lasso.fit(Stack_final_X_train, y_train)\n",
    "final = meta_model_lasso.predict(Stack_final_X_test)\n",
    "mse = mean_squared_error(y_test, final)\n",
    "rmse = np.sqrt(mse)\n",
    "\n",
    "print('스태킹 회귀 모델의 최종 RMSE 값은:', rmse) # 0.48328499851666"
   ]
  },
  {
   "cell_type": "markdown",
   "id": "044be0bb",
   "metadata": {},
   "source": [
    "#### n_estimators=500"
   ]
  },
  {
   "cell_type": "code",
   "execution_count": 91,
   "id": "018577e4",
   "metadata": {},
   "outputs": [
    {
     "name": "stdout",
     "output_type": "stream",
     "text": [
      "스태킹 회귀 모델의 최종 RMSE 값은: 0.47861508664544206\n"
     ]
    }
   ],
   "source": [
    "# 최종 모델은 LGBM 모델을 적용\n",
    "meta_model_lasso = LGBMRegressor(n_estimators=500)\n",
    "\n",
    "meta_model_lasso.fit(Stack_final_X_train, y_train)\n",
    "final = meta_model_lasso.predict(Stack_final_X_test)\n",
    "mse = mean_squared_error(y_test, final)\n",
    "rmse = np.sqrt(mse)\n",
    "\n",
    "print('스태킹 회귀 모델의 최종 RMSE 값은:', rmse) # 0.4778441238922401"
   ]
  },
  {
   "cell_type": "markdown",
   "id": "3ea2829b",
   "metadata": {},
   "source": [
    "#### n_estimators=100"
   ]
  },
  {
   "cell_type": "code",
   "execution_count": 92,
   "id": "be4cf9a8",
   "metadata": {},
   "outputs": [
    {
     "name": "stdout",
     "output_type": "stream",
     "text": [
      "스태킹 회귀 모델의 최종 RMSE 값은: 0.47227709207267576\n"
     ]
    }
   ],
   "source": [
    "# 최종 모델은 LGBM 모델을 적용\n",
    "meta_model_lasso = LGBMRegressor(n_estimators=100)\n",
    "\n",
    "meta_model_lasso.fit(Stack_final_X_train, y_train)\n",
    "final = meta_model_lasso.predict(Stack_final_X_test)\n",
    "mse = mean_squared_error(y_test, final)\n",
    "rmse = np.sqrt(mse)\n",
    "\n",
    "print('스태킹 회귀 모델의 최종 RMSE 값은:', rmse) # 0.4722081207534376"
   ]
  },
  {
   "cell_type": "markdown",
   "id": "bb6816c9",
   "metadata": {},
   "source": [
    "### 결과\n",
    "- 최종적으로 스태킹 회귀 모델을 적용한 결과\n",
    "    - 테스트 데이터세트에서 **RMSE가 0.4701863517152465**로 위에서 진행한 모델 포함 **가장 좋은 성능평가**를 보여줌\n",
    "\n",
    "\n",
    "- **스태킹 모델은 분류와 회귀에서 효과적으로 사용될 수 있는 모델이다!**"
   ]
  }
 ],
 "metadata": {
  "kernelspec": {
   "display_name": "Python 3",
   "language": "python",
   "name": "python3"
  },
  "language_info": {
   "codemirror_mode": {
    "name": "ipython",
    "version": 3
   },
   "file_extension": ".py",
   "mimetype": "text/x-python",
   "name": "python",
   "nbconvert_exporter": "python",
   "pygments_lexer": "ipython3",
   "version": "3.8.8"
  }
 },
 "nbformat": 4,
 "nbformat_minor": 5
}
